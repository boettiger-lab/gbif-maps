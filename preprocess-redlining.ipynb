{
 "cells": [
  {
   "cell_type": "code",
   "execution_count": 1,
   "id": "5fcd59bc-72a4-4de7-9cdb-1b6eca9407fb",
   "metadata": {},
   "outputs": [
    {
     "name": "stderr",
     "output_type": "stream",
     "text": [
      "2024-12-01 20:00:44.842 No runtime found, using MemoryCacheStorageManager\n"
     ]
    }
   ],
   "source": [
    "from app.utilities import *\n",
    "import ibis\n",
    "from ibis import _\n",
    "\n",
    "con = ibis.duckdb.connect(\"duck.db\", extensions=['httpfs', 'spatial', 'h3'])\n",
    "set_secrets(con) # s3 credentials\n",
    "set_aws_secrets(con)\n",
    "\n",
    "#con.raw_sql(\"SET memory_limit = '20GB';\")\n",
    "#con.raw_sql(\"set threads=40;\")\n",
    "\n",
    "gbif = con.read_parquet(\"s3://cboettig/gbif/2024-10-01/**\")\n",
    "\n",
    "# can/should we add explicit spatial index to gbif first?  "
   ]
  },
  {
   "cell_type": "code",
   "execution_count": 2,
   "id": "2e1f1ee1-8048-4f2b-83a0-ca8cc8fc9067",
   "metadata": {},
   "outputs": [],
   "source": [
    "(con\n",
    " .read_geo(\"/vsicurl/https://data.source.coop/cboettig/us-boundaries/mappinginequality.json\")\n",
    " .to_parquet(\"s3://cboettig/gbif/mappinginequality.parquet\")\n",
    ")\n",
    "\n",
    "# can/should we add explicit spatial index to mappinginequality polygons first? \n",
    "# would local duckdb table version be even better/faster? \n"
   ]
  },
  {
   "cell_type": "code",
   "execution_count": 4,
   "id": "32a2b4c1-e08b-4fbb-b891-ac19053a4585",
   "metadata": {},
   "outputs": [],
   "source": [
    "## select cities from the list we haven't yet written (allows resume).\n",
    "import minio\n",
    "import streamlit as st\n",
    "from pathlib import Path\n",
    "\n",
    "\n",
    "\n",
    "minio_key = st.secrets[\"MINIO_KEY\"]\n",
    "minio_secret = st.secrets[\"MINIO_SECRET\"]\n",
    "mc = minio.Minio(\"minio.carlboettiger.info\", minio_key, minio_secret)\n",
    "obj = mc.list_objects(\"cboettig\", \"gbif/redlined/\", recursive=True)\n",
    "\n",
    "finished_cities = [str(Path(i.object_name).stem) for i in obj if not i.is_dir]\n",
    "mappinginequality = con.read_parquet(\"s3://cboettig/gbif/mappinginequality.parquet\")\n",
    "\n",
    "all_cities = mappinginequality.select(_.city).distinct().order_by(_.city).execute()[\"city\"]\n",
    "remaining_cities = set(all_cities) - set(finished_cities)\n"
   ]
  },
  {
   "cell_type": "code",
   "execution_count": null,
   "id": "c3a4005c-1e8c-4f2a-a93c-1c158c9c26ab",
   "metadata": {},
   "outputs": [
    {
     "name": "stdout",
     "output_type": "stream",
     "text": [
      "New Orleans\n"
     ]
    },
    {
     "data": {
      "application/vnd.jupyter.widget-view+json": {
       "model_id": "04838646f95840b0978f6e471842fda6",
       "version_major": 2,
       "version_minor": 0
      },
      "text/plain": [
       "FloatProgress(value=0.0, layout=Layout(width='auto'), style=ProgressStyle(bar_color='black'))"
      ]
     },
     "metadata": {},
     "output_type": "display_data"
    },
    {
     "name": "stdout",
     "output_type": "stream",
     "text": [
      "Norfolk\n"
     ]
    },
    {
     "data": {
      "application/vnd.jupyter.widget-view+json": {
       "model_id": "12068de77d8e4deab2a355c03ca750d6",
       "version_major": 2,
       "version_minor": 0
      },
      "text/plain": [
       "FloatProgress(value=0.0, layout=Layout(width='auto'), style=ProgressStyle(bar_color='black'))"
      ]
     },
     "metadata": {},
     "output_type": "display_data"
    },
    {
     "name": "stdout",
     "output_type": "stream",
     "text": [
      "Schenectady\n"
     ]
    },
    {
     "data": {
      "application/vnd.jupyter.widget-view+json": {
       "model_id": "e55de7e5b2e748d2a6f03c6158ba7e26",
       "version_major": 2,
       "version_minor": 0
      },
      "text/plain": [
       "FloatProgress(value=0.0, layout=Layout(width='auto'), style=ProgressStyle(bar_color='black'))"
      ]
     },
     "metadata": {},
     "output_type": "display_data"
    },
    {
     "name": "stdout",
     "output_type": "stream",
     "text": [
      "Elmira\n"
     ]
    },
    {
     "data": {
      "application/vnd.jupyter.widget-view+json": {
       "model_id": "c05776902c604280ba8eaf396587c83c",
       "version_major": 2,
       "version_minor": 0
      },
      "text/plain": [
       "FloatProgress(value=0.0, layout=Layout(width='auto'), style=ProgressStyle(bar_color='black'))"
      ]
     },
     "metadata": {},
     "output_type": "display_data"
    },
    {
     "name": "stdout",
     "output_type": "stream",
     "text": [
      "York\n"
     ]
    },
    {
     "data": {
      "application/vnd.jupyter.widget-view+json": {
       "model_id": "6daaeddd9f094ddfbbee6b68221bbc5d",
       "version_major": 2,
       "version_minor": 0
      },
      "text/plain": [
       "FloatProgress(value=0.0, layout=Layout(width='auto'), style=ProgressStyle(bar_color='black'))"
      ]
     },
     "metadata": {},
     "output_type": "display_data"
    },
    {
     "name": "stdout",
     "output_type": "stream",
     "text": [
      "Dedham\n"
     ]
    },
    {
     "data": {
      "application/vnd.jupyter.widget-view+json": {
       "model_id": "9f7a9a55bfe84e75bda3eeb53480fca5",
       "version_major": 2,
       "version_minor": 0
      },
      "text/plain": [
       "FloatProgress(value=0.0, layout=Layout(width='auto'), style=ProgressStyle(bar_color='black'))"
      ]
     },
     "metadata": {},
     "output_type": "display_data"
    }
   ],
   "source": [
    "%%time \n",
    "\n",
    "## And here we go, long-running loop over each city\n",
    "for city in remaining_cities:\n",
    "    print(city)\n",
    "    gdf = (mappinginequality\n",
    "           .filter(_.city == city)\n",
    "           .mutate(area = _.geom.area())\n",
    "#           .agg(geom = _.geom.unary_union())\n",
    "    )\n",
    "    \n",
    "    bounds =  gdf.execute().total_bounds\n",
    "    points = (gbif\n",
    "           .filter(_.decimallongitude >= bounds[0], \n",
    "                   _.decimallongitude < bounds[2], \n",
    "                   _.decimallatitude >= bounds[1], \n",
    "                   _.decimallatitude < bounds[3])\n",
    "             )\n",
    "                  \n",
    "    (gdf\n",
    "     .join(points, gdf.geom.intersects(points.geom))\n",
    "     .to_parquet(f\"s3://cboettig/gbif/redlined/{city}.parquet\")\n",
    "    )\n"
   ]
  },
  {
   "cell_type": "code",
   "execution_count": null,
   "id": "5ce74a60-c30b-4a78-9653-b34e788227b3",
   "metadata": {},
   "outputs": [],
   "source": [
    "%%time\n",
    "\n",
    "## Testing\n",
    "\n",
    "(con\n",
    "  .read_parquet(\"s3://cboettig/gbif/redlined/*\")\n",
    "  .filter(_.city == \"Los Angeles\")\n",
    "  .group_by(_.grade)\n",
    "  .agg(n = _.count(),\n",
    "       area = _.area.sum())\n",
    "  .mutate(density = _.n /_.area)\n",
    "  .order_by(_.density.desc())\n",
    "  .execute()\n",
    ")\n"
   ]
  },
  {
   "cell_type": "code",
   "execution_count": null,
   "id": "9f3b24a1-e14c-4d09-b6be-f04b269b67f3",
   "metadata": {},
   "outputs": [],
   "source": [
    "%%time \n",
    "\n",
    "## mean & sd within grade\n",
    "\n",
    "(con\n",
    " .read_parquet(\"s3://cboettig/gbif/redlined/*\")\n",
    " .filter(_.city == \"Los Angeles\")\n",
    " .group_by(_.area_id, _.grade)\n",
    " .agg(n = _.count(),\n",
    "      area = _.area.sum())\n",
    " .mutate(density = _.n /_.area)\n",
    " .group_by(_.grade)\n",
    " .agg(mean = _.density.mean(),\n",
    "        sd = _.density.std())\n",
    " .order_by(_.mean.desc())\n",
    " .execute()\n",
    ")"
   ]
  },
  {
   "cell_type": "code",
   "execution_count": null,
   "id": "873af64f-59fe-46a3-9a0a-0f9b08629e9e",
   "metadata": {},
   "outputs": [],
   "source": [
    "## Overture\n",
    "overture = con.read_parquet('s3://overturemaps-us-west-2/release/2024-11-13.0/theme=divisions/type=division_area/*', filename=True, hive_partitioning=1)\n",
    "usa = overture.filter(_.subtype==\"country\").filter(_.country == \"US\").select(_.geometry).execute()\n",
    "ca = (overture\n",
    "       .filter(_.country == \"US\", _.subtype == \"region\")\n",
    "       .select('region', 'geometry')\n",
    "       .filter(_.region == \"US-CA\")\n",
    "       .execute()\n",
    "      )"
   ]
  },
  {
   "cell_type": "code",
   "execution_count": null,
   "id": "128e0aed-e386-4b81-bbf1-ee7a9ea85860",
   "metadata": {},
   "outputs": [],
   "source": [
    "\n",
    "## export in gdal formats?  not working?\n",
    "## FIXME test duckdb gdal writes?\n",
    "bucket = \"cboettig/gbif\"\n",
    "dest2 = \"cache/tmp.geojson\"\n",
    "query = ibis.to_sql(sel)\n",
    "#con.raw_sql(f\"COPY ({query}) TO 's3://{bucket}/{dest2}'  WITH (FORMAT GDAL, DRIVER 'FlatGeoBuf');\")\n",
    "#con.raw_sql(f\"COPY ({query}) TO 's3://{bucket}/{dest2}'  WITH  (FORMAT GDAL, DRIVER 'GeoJSON', LAYER_CREATION_OPTIONS 'WRITE_BBOX=YES');\")\n"
   ]
  }
 ],
 "metadata": {
  "kernelspec": {
   "display_name": "Python 3 (ipykernel)",
   "language": "python",
   "name": "python3"
  },
  "language_info": {
   "codemirror_mode": {
    "name": "ipython",
    "version": 3
   },
   "file_extension": ".py",
   "mimetype": "text/x-python",
   "name": "python",
   "nbconvert_exporter": "python",
   "pygments_lexer": "ipython3",
   "version": "3.12.7"
  }
 },
 "nbformat": 4,
 "nbformat_minor": 5
}
