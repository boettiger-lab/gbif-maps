{
 "cells": [
  {
   "cell_type": "code",
   "execution_count": null,
   "id": "5fcd59bc-72a4-4de7-9cdb-1b6eca9407fb",
   "metadata": {},
   "outputs": [],
   "source": [
    "from app.utilities import *\n",
    "import ibis\n",
    "from ibis import _\n",
    "con = ibis.duckdb.connect(\"duck.db\", extensions=['httpfs', 'spatial', 'h3'])\n",
    "set_secrets(con) # s3 credentials\n",
    "set_aws_secrets(con)\n",
    "\n",
    "#con.raw_sql(\"SET memory_limit = '20GB';\")\n",
    "#con.raw_sql(\"set threads=40;\")\n"
   ]
  },
  {
   "cell_type": "code",
   "execution_count": null,
   "id": "2e1f1ee1-8048-4f2b-83a0-ca8cc8fc9067",
   "metadata": {},
   "outputs": [],
   "source": [
    "gbif = con.read_parquet(\"s3://cboettig/gbif/2024-10-01/**\")\n",
    "\n",
    "\n"
   ]
  },
  {
   "cell_type": "code",
   "execution_count": null,
   "id": "62f19646-4f32-4da2-a59a-422d68bfa5af",
   "metadata": {},
   "outputs": [],
   "source": [
    "(con\n",
    " .read_geo(\"/vsicurl/https://data.source.coop/cboettig/us-boundaries/mappinginequality.json\")\n",
    " .to_parquet(\"s3://cboettig/gbif/mappinginequality.parquet\")\n",
    ")"
   ]
  },
  {
   "cell_type": "code",
   "execution_count": null,
   "id": "32a2b4c1-e08b-4fbb-b891-ac19053a4585",
   "metadata": {},
   "outputs": [],
   "source": [
    "import minio\n",
    "import streamlit as st\n",
    "from pathlib import Path\n",
    "minio_key = st.secrets[\"MINIO_KEY\"]\n",
    "minio_secret = st.secrets[\"MINIO_SECRET\"]\n",
    "mc = minio.Minio(\"minio.carlboettiger.info\", minio_key, minio_secret)\n",
    "\n",
    "obj = mc.list_objects(\"cboettig\", \"gbif/redlined/\", recursive=True)\n",
    "\n",
    "finished_cities = [str(Path(i.object_name).stem) for i in obj if not i.is_dir]\n",
    "finished_cities\n",
    "\n"
   ]
  },
  {
   "cell_type": "code",
   "execution_count": null,
   "id": "3f027b35-0b71-46ce-8a0a-728229d4cc12",
   "metadata": {},
   "outputs": [],
   "source": [
    "\n",
    "mappinginequality = con.read_parquet(\"s3://cboettig/gbif/mappinginequality.parquet\")\n",
    "cities = mappinginequality.select(_.city).distinct().order_by(_.city).execute()[\"city\"]\n",
    "\n",
    "\n",
    "remaining_cities = set(cities) - set(finished_cities)\n",
    "remaining_cities"
   ]
  },
  {
   "cell_type": "code",
   "execution_count": null,
   "id": "c3a4005c-1e8c-4f2a-a93c-1c158c9c26ab",
   "metadata": {},
   "outputs": [],
   "source": [
    "%%time \n",
    "\n",
    "for city in remaining_cities:\n",
    "    print(city)\n",
    "    gdf = (mappinginequality\n",
    "           .filter(_.city == city)\n",
    "           .mutate(area = _.geom.area())\n",
    "#           .agg(geom = _.geom.unary_union())\n",
    "    )\n",
    "    \n",
    "    bounds =  gdf.execute().total_bounds\n",
    "    points = (gbif\n",
    "           .filter(_.decimallongitude >= bounds[0], \n",
    "                   _.decimallongitude < bounds[2], \n",
    "                   _.decimallatitude >= bounds[1], \n",
    "                   _.decimallatitude < bounds[3])\n",
    "             )\n",
    "                  \n",
    "    (gdf\n",
    "     .join(points, gdf.geom.intersects(points.geom))\n",
    "     .to_parquet(f\"s3://cboettig/gbif/redlined/{city}.parquet\")\n",
    "    )\n"
   ]
  },
  {
   "cell_type": "code",
   "execution_count": null,
   "id": "a00d8a3a-3f42-468e-8b55-4b704cfd0ab8",
   "metadata": {},
   "outputs": [],
   "source": [
    "%%time\n",
    "\n",
    "points = gbif\n",
    "city = (con\n",
    "        .read_geo(\"/vsicurl/https://data.source.coop/cboettig/us-boundaries/mappinginequality.json\")\n",
    "        .mutate(area = _.geom.area())\n",
    "       )\n",
    "\n",
    "(city\n",
    " .join(points, city.geom.intersects(points.geom))\n",
    " .to_parquet(\"s3://cboettig/gbif/redlined-city-gbif.parquet\")\n",
    ")"
   ]
  },
  {
   "cell_type": "code",
   "execution_count": null,
   "id": "873af64f-59fe-46a3-9a0a-0f9b08629e9e",
   "metadata": {},
   "outputs": [],
   "source": [
    "\n",
    "overture = con.read_parquet('s3://overturemaps-us-west-2/release/2024-11-13.0/theme=divisions/type=division_area/*', filename=True, hive_partitioning=1)\n",
    "usa = overture.filter(_.subtype==\"country\").filter(_.country == \"US\").select(_.geometry).execute()\n",
    "ca = (overture\n",
    "       .filter(_.country == \"US\", _.subtype == \"region\")\n",
    "       .select('region', 'geometry')\n",
    "       .filter(_.region == \"US-CA\")\n",
    "       .execute()\n",
    "      )"
   ]
  },
  {
   "cell_type": "code",
   "execution_count": null,
   "id": "beb66a3b-f410-4754-8997-e8e119a9bcff",
   "metadata": {},
   "outputs": [],
   "source": [
    "\n"
   ]
  },
  {
   "cell_type": "code",
   "execution_count": null,
   "id": "5ce74a60-c30b-4a78-9653-b34e788227b3",
   "metadata": {},
   "outputs": [],
   "source": [
    "%%time\n",
    "#points = con.read_parquet(\"s3://cboettig/gbif/cache/tmp_ca.parquet\", \"points\").filter(_[\"class\"] == \"Aves\")\n",
    "points = gbif\n",
    "\n",
    "city = (con\n",
    "        .read_geo(\"/vsicurl/https://data.source.coop/cboettig/us-boundaries/mappinginequality.json\")\n",
    "        .filter(_.city == \"Los Angeles\")\n",
    "        .mutate(area = _.geom.area())\n",
    "       )\n",
    "\n",
    "(city\n",
    " .join(points, city.geom.intersects(points.geom)) \n",
    " .group_by(_.grade)\n",
    " .agg(n = _.count(),\n",
    "      area = _.area.sum())\n",
    " .mutate(density = _.n /_.area)\n",
    " .order_by(_.density.desc())\n",
    " .execute()\n",
    ")\n",
    "\n"
   ]
  },
  {
   "cell_type": "code",
   "execution_count": null,
   "id": "9f3b24a1-e14c-4d09-b6be-f04b269b67f3",
   "metadata": {},
   "outputs": [],
   "source": [
    "(city\n",
    " .join(points, city.geom.intersects(points.geom)) \n",
    " .group_by(_.area_id, _.grade)\n",
    " .agg(n = _.count(),\n",
    "      area = _.area.sum())\n",
    " .mutate(density = _.n /_.area)\n",
    " .group_by(_.grade)\n",
    " .agg(mean = _.density.mean(),\n",
    "        sd = _.density.std())\n",
    " .order_by(_.mean.desc())\n",
    " .execute()\n",
    ")"
   ]
  },
  {
   "cell_type": "code",
   "execution_count": null,
   "id": "506fc61c-1b91-4a42-938c-3dd5ab7d5e3f",
   "metadata": {},
   "outputs": [],
   "source": [
    "import streamlit as st\n",
    "minio_key = st.secrets[\"MINIO_KEY\"]\n",
    "minio_secret = st.secrets[\"MINIO_SECRET\"]\n",
    "query=   f'''\n",
    "CREATE OR REPLACE SECRET secret2 (\n",
    "    TYPE S3,\n",
    "    KEY_ID '{minio_key}',\n",
    "    SECRET '{minio_secret}',\n",
    "    ENDPOINT 'minio.carlboettiger.info',\n",
    "    URL_STYLE 'path',\n",
    "    SCOPE 's3://cboettig/gbif'\n",
    ");\n",
    "'''"
   ]
  },
  {
   "cell_type": "code",
   "execution_count": null,
   "id": "e1ecbd3b-7a47-42fc-a75c-c9934551ad16",
   "metadata": {},
   "outputs": [],
   "source": [
    "city"
   ]
  },
  {
   "cell_type": "code",
   "execution_count": null,
   "id": "29843020-efd1-4d7c-b18c-2a28091334a7",
   "metadata": {},
   "outputs": [],
   "source": [
    "import duckdb\n",
    "db = duckdb.connect()\n",
    "db.sql(query)\n",
    "df = db.sql(f'''\n",
    "LOAD SPATIAL;\n",
    "\n",
    "CREATE OR REPLACE VIEW points as SELECT * FROM 's3://cboettig/gbif/cache/tmp.parquet';\n",
    "\n",
    "CREATE OR REPLACE VIEW area as SELECT *\n",
    "FROM (\n",
    "  SELECT\n",
    "    *\n",
    "  FROM st_read('/vsicurl/https://data.source.coop/cboettig/us-boundaries/mappinginequality.json') AS \"t0\"\n",
    "  WHERE\n",
    "    \"t0\".\"city\" = 'Oakland'\n",
    ");\n",
    "''')\n",
    "\n",
    "\n",
    "# CREATE INDEX my_idx ON my_table USING RTREE (geom);\n",
    "\n",
    "\n",
    "\n",
    "\n",
    "db.sql(f'''            \n",
    "SELECT *\n",
    "FROM area, points \n",
    "WHERE st_intersects(area.geom, points.geom)\n",
    "LIMIT 100\n",
    "''')\n",
    "\n",
    "# each point is now joined to it's containing area!\n",
    "df.to_df()"
   ]
  },
  {
   "cell_type": "code",
   "execution_count": null,
   "id": "f29e814a-5ec9-406e-8173-f292cd4933d3",
   "metadata": {},
   "outputs": [],
   "source": []
  },
  {
   "cell_type": "code",
   "execution_count": null,
   "id": "34fae84f-c170-4207-b1cc-fd3b8fc63a73",
   "metadata": {},
   "outputs": [],
   "source": [
    "\n",
    "\n",
    "#CREATE INDEX idx_points_geom_4326 ON points USING gist (ST_Transform(point,4326));\n"
   ]
  },
  {
   "cell_type": "code",
   "execution_count": null,
   "id": "5529b298-99b8-4735-bf4b-3b30a833e79e",
   "metadata": {},
   "outputs": [],
   "source": [
    "# Overture-based polygons\n",
    "\n",
    "overture = con.read_parquet('s3://overturemaps-us-west-2/release/2024-11-13.0/theme=divisions/type=division_area/*', filename=True, hive_partitioning=1)\n",
    "#gdf = overture.filter(_.subtype==\"country\").filter(_.country == \"US\").select(geometry)\n",
    "gdf = (overture\n",
    "       .filter(_.country == \"US\", _.subtype == \"region\")\n",
    "       .select('region', 'geometry')\n",
    "       .filter(_.region == \"US-MA\")\n",
    "       .execute()\n",
    "      )\n",
    "gdf"
   ]
  },
  {
   "cell_type": "code",
   "execution_count": null,
   "id": "128e0aed-e386-4b81-bbf1-ee7a9ea85860",
   "metadata": {},
   "outputs": [],
   "source": [
    "%%time\n",
    "\n",
    "## export in gdal formats?  not working?\n",
    "\n",
    "bucket = \"cboettig/gbif\"\n",
    "dest2 = \"cache/tmp.geojson\"\n",
    "query = ibis.to_sql(sel)\n",
    "\n",
    "#con.raw_sql(f\"COPY ({query}) TO 's3://{bucket}/{dest2}'  WITH (FORMAT GDAL, DRIVER 'FlatGeoBuf');\")\n",
    "#con.raw_sql(f\"COPY ({query}) TO 's3://{bucket}/{dest2}'  WITH  (FORMAT GDAL, DRIVER 'GeoJSON', LAYER_CREATION_OPTIONS 'WRITE_BBOX=YES');\")\n",
    "#con.raw_sql(f\"COPY ({query}) TO 'tmp.geojson'  WITH  (FORMAT GDAL, DRIVER 'GeoJSON', LAYER_CREATION_OPTIONS 'WRITE_BBOX=YES');\")\n",
    "#con.sql('SELECT * FROM ST_DRIVERS();').execute()\n"
   ]
  }
 ],
 "metadata": {
  "kernelspec": {
   "display_name": "Python 3 (ipykernel)",
   "language": "python",
   "name": "python3"
  },
  "language_info": {
   "codemirror_mode": {
    "name": "ipython",
    "version": 3
   },
   "file_extension": ".py",
   "mimetype": "text/x-python",
   "name": "python",
   "nbconvert_exporter": "python",
   "pygments_lexer": "ipython3",
   "version": "3.12.7"
  }
 },
 "nbformat": 4,
 "nbformat_minor": 5
}
