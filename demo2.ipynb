{
 "cells": [
  {
   "cell_type": "markdown",
   "id": "eec96d5f-fc78-4cb0-ad0f-5608a9294f72",
   "metadata": {},
   "source": [
    "# Using Source.Coop to add value to a half-terrabyte public dataset\n",
    "\n",
    "\n",
    "_The magic of object stores_\n",
    "\n",
    "\n",
    "\n",
    "## 1. Stream data _from_ source.coop\n",
    "\n",
    "## 2. Stream data _to_ source.coop\n"
   ]
  },
  {
   "cell_type": "code",
   "execution_count": 1,
   "id": "48a16400-3031-455e-92ce-bf912a090fb2",
   "metadata": {},
   "outputs": [],
   "source": [
    "import ibis\n",
    "from ibis import _\n",
    "import pydeck as pdk\n",
    "from boilerplate import *"
   ]
  },
  {
   "cell_type": "markdown",
   "id": "3c99f364-e6da-4dbd-b6b7-549c79c33f84",
   "metadata": {},
   "source": [
    "\n",
    "\n",
    "First I computed **[H3 heirarchical spatial indexes](https://h3geo.org)** using [duckdb](https://github.com/boettiger-lab/gbif-maps/blob/main/gbif_as_h3.py) for the Global Biodiversity Information Facility (GBIF) & upload to [source.coop/cboettig/gbif](https://source.coop/cboettig/gbif/).   (***> 24 hrs, 430 GB, 3 billion+ observations***)\n",
    "\n",
    "Now let's compute over _all the data in seconds_.\n"
   ]
  },
  {
   "cell_type": "code",
   "execution_count": 2,
   "id": "62fa95cf-5d5c-4340-aaad-f84838046b1c",
   "metadata": {},
   "outputs": [],
   "source": [
    "con = ibis.duckdb.connect(extensions=['httpfs', 'spatial', 'h3'])\n",
    "set_secrets(con) # s3 credentials\n"
   ]
  },
  {
   "cell_type": "code",
   "execution_count": 3,
   "id": "f5d8f550-6624-47e8-96a6-5a15b5cacd93",
   "metadata": {},
   "outputs": [
    {
     "data": {
      "application/vnd.jupyter.widget-view+json": {
       "model_id": "2a09dda669494202b734ff0e4a23135e",
       "version_major": 2,
       "version_minor": 0
      },
      "text/plain": [
       "FloatProgress(value=0.0, layout=Layout(width='auto'), style=ProgressStyle(bar_color='black'))"
      ]
     },
     "metadata": {},
     "output_type": "display_data"
    },
    {
     "name": "stdout",
     "output_type": "stream",
     "text": [
      "CPU times: user 2min 2s, sys: 14.2 s, total: 2min 17s\n",
      "Wall time: 10.5 s\n"
     ]
    }
   ],
   "source": [
    "%%time\n",
    "\n",
    "dest = \"csv/gbif_demo.csv\"\n",
    "(con\n",
    "  .read_parquet(\"s3://cboettig/gbif/2024-10-01/**\")\n",
    "  .filter(_[\"class\"].isin([\"Insecta\"]))\n",
    "  .rename(hex = \"h3\")                   # h3 == 41,150 hexes.  h5 == 2,016,830 hexes\t\n",
    "  .group_by(_.hex)\n",
    "  .agg(n = _.count())\n",
    "  .mutate(logn = _.n.log())\n",
    "  .mutate(value = (255 * _.logn / _.logn.max()).cast(\"int\")) # normalized color-scale\n",
    "  .to_csv(\"s3://cboettig/gbif/\" + dest)\n",
    ")"
   ]
  },
  {
   "cell_type": "markdown",
   "id": "d748fd36-1e1a-4a00-9712-218d487f2e52",
   "metadata": {},
   "source": [
    "# Cloud-native visualization\n",
    "\n",
    "## from source.coop\n",
    "\n",
    "Use deck.gl, where the data later is passed as URL, only read client-side"
   ]
  },
  {
   "cell_type": "code",
   "execution_count": 4,
   "id": "5bfd4a7d-42f7-4e02-8821-3aa034c79026",
   "metadata": {},
   "outputs": [
    {
     "data": {
      "text/html": [
       "\n",
       "        <iframe\n",
       "            width=\"100%\"\n",
       "            height=500\n",
       "            frameborder=\"0\"\n",
       "            srcdoc=\"&lt;!DOCTYPE html&gt;\n",
       "&lt;html&gt;\n",
       "  &lt;head&gt;\n",
       "    &lt;meta http-equiv=&quot;content-type&quot; content=&quot;text/html; charset=UTF-8&quot; /&gt;\n",
       "    &lt;title&gt;pydeck&lt;/title&gt;\n",
       "        &lt;script src=&quot;https://api.tiles.mapbox.com/mapbox-gl-js/v1.13.0/mapbox-gl.js&quot;&gt;&lt;/script&gt;\n",
       "        &lt;link rel=&quot;stylesheet&quot; href=&quot;https://maxcdn.bootstrapcdn.com/bootstrap/3.2.0/css/bootstrap-theme.min.css&quot; /&gt;\n",
       "    &lt;link rel=&quot;stylesheet&quot; href=&quot;https://maxcdn.bootstrapcdn.com/font-awesome/4.6.3/css/font-awesome.min.css&quot; /&gt;\n",
       "    &lt;script src=&#x27;https://cdn.jsdelivr.net/npm/@deck.gl/jupyter-widget@~8.8.*/dist/index.js&#x27;&gt;&lt;/script&gt;\n",
       "    &lt;style&gt;\n",
       "    body {\n",
       "  margin: 0;\n",
       "  padding: 0;\n",
       "  overflow: hidden;\n",
       "}\n",
       "\n",
       "#deck-container {\n",
       "  width: 100vw;\n",
       "  height: 100vh;\n",
       "}\n",
       "\n",
       "#deck-container canvas {\n",
       "  z-index: 1;\n",
       "  background: none;\n",
       "}\n",
       "    &lt;/style&gt;\n",
       "  &lt;/head&gt;\n",
       "  &lt;body&gt;\n",
       "    &lt;div id=&quot;deck-container&quot;&gt;\n",
       "    &lt;/div&gt;\n",
       "  &lt;/body&gt;\n",
       "  &lt;script&gt;\n",
       "    const container = document.getElementById(&#x27;deck-container&#x27;);\n",
       "    const jsonInput = {\n",
       "  &quot;initialViewState&quot;: {\n",
       "    &quot;latitude&quot;: 51.47,\n",
       "    &quot;longitude&quot;: 0.45,\n",
       "    &quot;zoom&quot;: 0\n",
       "  },\n",
       "  &quot;layers&quot;: [\n",
       "    {\n",
       "      &quot;@@type&quot;: &quot;GeoJsonLayer&quot;,\n",
       "      &quot;data&quot;: &quot;https://d2ad6b4ur7yvpq.cloudfront.net/naturalearth-3.3.0/ne_50m_admin_0_scale_rank.geojson&quot;,\n",
       "      &quot;filled&quot;: true,\n",
       "      &quot;getFillColor&quot;: [\n",
       "        200,\n",
       "        200,\n",
       "        200\n",
       "      ],\n",
       "      &quot;id&quot;: &quot;base-map&quot;,\n",
       "      &quot;stroked&quot;: false\n",
       "    },\n",
       "    {\n",
       "      &quot;@@type&quot;: &quot;H3HexagonLayer&quot;,\n",
       "      &quot;autoHighlight&quot;: true,\n",
       "      &quot;data&quot;: &quot;https://minio.carlboettiger.info/cboettig/gbif/csv/gbif_demo.csv&quot;,\n",
       "      &quot;elevationRange&quot;: [\n",
       "        0,\n",
       "        1\n",
       "      ],\n",
       "      &quot;elevationScale&quot;: 200,\n",
       "      &quot;extruded&quot;: true,\n",
       "      &quot;getElevation&quot;: &quot;@@=value&quot;,\n",
       "      &quot;getFillColor&quot;: &quot;@@=[255 - value, 255, value]&quot;,\n",
       "      &quot;getHexagon&quot;: &quot;@@=hex&quot;,\n",
       "      &quot;id&quot;: &quot;gbif&quot;,\n",
       "      &quot;pickable&quot;: true\n",
       "    }\n",
       "  ],\n",
       "  &quot;mapStyle&quot;: &quot;dark&quot;,\n",
       "  &quot;parameters&quot;: {\n",
       "    &quot;cull&quot;: true\n",
       "  },\n",
       "  &quot;views&quot;: [\n",
       "    {\n",
       "      &quot;@@type&quot;: &quot;_GlobeView&quot;,\n",
       "      &quot;controller&quot;: true,\n",
       "      &quot;height&quot;: 600,\n",
       "      &quot;width&quot;: 1000\n",
       "    }\n",
       "  ]\n",
       "};\n",
       "    const tooltip = true;\n",
       "    const customLibraries = null;\n",
       "    const configuration = null;\n",
       "\n",
       "    const deckInstance = createDeck({\n",
       "                  container,\n",
       "      jsonInput,\n",
       "      tooltip,\n",
       "      customLibraries,\n",
       "      configuration\n",
       "    });\n",
       "\n",
       "  &lt;/script&gt;\n",
       "&lt;/html&gt;\"\n",
       "        ></iframe>\n",
       "    "
      ],
      "text/plain": [
       "<IPython.core.display.HTML object>"
      ]
     },
     "execution_count": 4,
     "metadata": {},
     "output_type": "execute_result"
    }
   ],
   "source": [
    "url = base_url + \"/cboettig/gbif/\" + dest\n",
    "\n",
    "# Render with deck-gl\n",
    "layer = HexagonLayer(url)\n",
    "deck = DeckGlobe(layer)\n",
    "\n",
    "deck.to_html(\"globe.html\")"
   ]
  },
  {
   "cell_type": "code",
   "execution_count": null,
   "id": "c55df18d-6466-4b2f-bf64-01d4e7197ac5",
   "metadata": {},
   "outputs": [],
   "source": []
  },
  {
   "cell_type": "code",
   "execution_count": 5,
   "id": "2df98f67-9170-48f3-8d12-c121d8e8059d",
   "metadata": {},
   "outputs": [
    {
     "data": {
      "text/plain": [
       "<minio.helpers.ObjectWriteResult at 0x721d25b83ce0>"
      ]
     },
     "execution_count": 5,
     "metadata": {},
     "output_type": "execute_result"
    }
   ],
   "source": [
    "# Post the map itself to source\n",
    "client = s3_client()\n",
    "client.fput_object(\"cboettig\", \"gbif/maps/\" + \"globe.html\", \"globe.html\")"
   ]
  },
  {
   "cell_type": "markdown",
   "id": "c9878217-3076-46ea-ac32-347190cc6eba",
   "metadata": {},
   "source": [
    "\n",
    "---\n"
   ]
  },
  {
   "cell_type": "markdown",
   "id": "5e58c4d4-f6c5-4e21-9516-32cc3376e51f",
   "metadata": {},
   "source": [
    "# Zooming in"
   ]
  },
  {
   "cell_type": "code",
   "execution_count": 6,
   "id": "e2e5a1e3-7f4c-40aa-aaa6-ab4f0e5f834a",
   "metadata": {},
   "outputs": [
    {
     "data": {
      "application/vnd.jupyter.widget-view+json": {
       "model_id": "e4a9cbcb16df47a69c860b0f85f4c147",
       "version_major": 2,
       "version_minor": 0
      },
      "text/plain": [
       "FloatProgress(value=0.0, layout=Layout(width='auto'), style=ProgressStyle(bar_color='black'))"
      ]
     },
     "metadata": {},
     "output_type": "display_data"
    }
   ],
   "source": [
    "## grab polygon of a National park:\n",
    "polygon = (con\n",
    "        .read_geo(\"/vsicurl/https://huggingface.co/datasets/cboettig/biodiversity/resolve/main/data/NPS.gdb\")\n",
    "        .filter(_.UNIT_NAME == \"Yellowstone National Park\")\n",
    "        .mutate(SHAPE = _.SHAPE.convert('EPSG:3857', 'EPSG:4326'))\n",
    "        .mutate(SHAPE = _.SHAPE.buffer(2))\n",
    "        .execute()\n",
    "       )\n",
    "\n",
    "poly_expr = ibis.literal(polygon.geometry.iloc[0])"
   ]
  },
  {
   "cell_type": "code",
   "execution_count": 7,
   "id": "4286cd34-e1c3-4b5a-8d23-1faa48b604a4",
   "metadata": {},
   "outputs": [
    {
     "data": {
      "text/plain": [
       "['gbifid',\n",
       " 'datasetkey',\n",
       " 'occurrenceid',\n",
       " 'kingdom',\n",
       " 'phylum',\n",
       " 'class',\n",
       " 'order',\n",
       " 'family',\n",
       " 'genus',\n",
       " 'species',\n",
       " 'infraspecificepithet',\n",
       " 'taxonrank',\n",
       " 'scientificname',\n",
       " 'verbatimscientificname',\n",
       " 'verbatimscientificnameauthorship',\n",
       " 'countrycode',\n",
       " 'locality',\n",
       " 'stateprovince',\n",
       " 'occurrencestatus',\n",
       " 'individualcount',\n",
       " 'publishingorgkey',\n",
       " 'decimallatitude',\n",
       " 'decimallongitude',\n",
       " 'coordinateuncertaintyinmeters',\n",
       " 'coordinateprecision',\n",
       " 'elevation',\n",
       " 'elevationaccuracy',\n",
       " 'depth',\n",
       " 'depthaccuracy',\n",
       " 'eventdate',\n",
       " 'day',\n",
       " 'month',\n",
       " 'year',\n",
       " 'taxonkey',\n",
       " 'specieskey',\n",
       " 'basisofrecord',\n",
       " 'institutioncode',\n",
       " 'collectioncode',\n",
       " 'catalognumber',\n",
       " 'recordnumber',\n",
       " 'identifiedby',\n",
       " 'dateidentified',\n",
       " 'license',\n",
       " 'rightsholder',\n",
       " 'recordedby',\n",
       " 'typestatus',\n",
       " 'establishmentmeans',\n",
       " 'lastinterpreted',\n",
       " 'mediatype',\n",
       " 'issue',\n",
       " 'geom',\n",
       " 'h0',\n",
       " 'h1',\n",
       " 'h2',\n",
       " 'h3',\n",
       " 'h4',\n",
       " 'h5',\n",
       " 'h6',\n",
       " 'h7',\n",
       " 'h8',\n",
       " 'h9',\n",
       " 'h10',\n",
       " 'h11']"
      ]
     },
     "execution_count": 7,
     "metadata": {},
     "output_type": "execute_result"
    }
   ],
   "source": [
    "con.read_parquet(\"s3://cboettig/gbif/2024-10-01/**\").columns"
   ]
  },
  {
   "cell_type": "code",
   "execution_count": 8,
   "id": "3f70b1fb-9f5f-4910-ac0f-797c9dc5acd7",
   "metadata": {},
   "outputs": [
    {
     "data": {
      "application/vnd.jupyter.widget-view+json": {
       "model_id": "4ac1bd7d76124d9ca0bb6c1b90db70b1",
       "version_major": 2,
       "version_minor": 0
      },
      "text/plain": [
       "FloatProgress(value=0.0, layout=Layout(width='auto'), style=ProgressStyle(bar_color='black'))"
      ]
     },
     "metadata": {},
     "output_type": "display_data"
    }
   ],
   "source": [
    "subset = (con\n",
    "  .read_parquet(\"s3://cboettig/gbif/2024-10-01/**\")\n",
    "  .filter( _.geom.within(poly_expr))\n",
    "  .filter(_.year > 2000)\n",
    "  .filter(_[\"family\"].isin(['Antilocapridae', 'Cervidae', 'Suidae']) |  _[\"genus\"].isin([\"Canis\", 'Ursus', 'Bison']))\n",
    "  .rename(hex = \"h9\")\n",
    "  .group_by(_.species)\n",
    "  .agg(n = _.count())\n",
    "  .order_by(_.n.desc())\n",
    "  .filter(_.n > 1)\n",
    "  .execute()\n",
    ")\n"
   ]
  },
  {
   "cell_type": "code",
   "execution_count": 9,
   "id": "c680fbbc-4d3e-4324-91d5-98e4deec3542",
   "metadata": {},
   "outputs": [
    {
     "data": {
      "text/html": [
       "<div>\n",
       "<style scoped>\n",
       "    .dataframe tbody tr th:only-of-type {\n",
       "        vertical-align: middle;\n",
       "    }\n",
       "\n",
       "    .dataframe tbody tr th {\n",
       "        vertical-align: top;\n",
       "    }\n",
       "\n",
       "    .dataframe thead th {\n",
       "        text-align: right;\n",
       "    }\n",
       "</style>\n",
       "<table border=\"1\" class=\"dataframe\">\n",
       "  <thead>\n",
       "    <tr style=\"text-align: right;\">\n",
       "      <th></th>\n",
       "      <th>species</th>\n",
       "      <th>n</th>\n",
       "    </tr>\n",
       "  </thead>\n",
       "  <tbody>\n",
       "    <tr>\n",
       "      <th>0</th>\n",
       "      <td>Bison bison</td>\n",
       "      <td>5286</td>\n",
       "    </tr>\n",
       "    <tr>\n",
       "      <th>1</th>\n",
       "      <td>Cervus elaphus</td>\n",
       "      <td>3465</td>\n",
       "    </tr>\n",
       "    <tr>\n",
       "      <th>2</th>\n",
       "      <td>Alces alces</td>\n",
       "      <td>1893</td>\n",
       "    </tr>\n",
       "    <tr>\n",
       "      <th>3</th>\n",
       "      <td>Odocoileus hemionus</td>\n",
       "      <td>1747</td>\n",
       "    </tr>\n",
       "    <tr>\n",
       "      <th>4</th>\n",
       "      <td>Antilocapra americana</td>\n",
       "      <td>1665</td>\n",
       "    </tr>\n",
       "    <tr>\n",
       "      <th>5</th>\n",
       "      <td>Ursus americanus</td>\n",
       "      <td>1594</td>\n",
       "    </tr>\n",
       "    <tr>\n",
       "      <th>6</th>\n",
       "      <td>Canis latrans</td>\n",
       "      <td>1096</td>\n",
       "    </tr>\n",
       "    <tr>\n",
       "      <th>7</th>\n",
       "      <td>Ursus arctos</td>\n",
       "      <td>1086</td>\n",
       "    </tr>\n",
       "    <tr>\n",
       "      <th>8</th>\n",
       "      <td>Canis lupus</td>\n",
       "      <td>608</td>\n",
       "    </tr>\n",
       "    <tr>\n",
       "      <th>9</th>\n",
       "      <td>Odocoileus virginianus</td>\n",
       "      <td>330</td>\n",
       "    </tr>\n",
       "    <tr>\n",
       "      <th>10</th>\n",
       "      <td>Alces americanus</td>\n",
       "      <td>275</td>\n",
       "    </tr>\n",
       "    <tr>\n",
       "      <th>11</th>\n",
       "      <td>None</td>\n",
       "      <td>6</td>\n",
       "    </tr>\n",
       "    <tr>\n",
       "      <th>12</th>\n",
       "      <td>Sus scrofa</td>\n",
       "      <td>2</td>\n",
       "    </tr>\n",
       "  </tbody>\n",
       "</table>\n",
       "</div>"
      ],
      "text/plain": [
       "                   species     n\n",
       "0              Bison bison  5286\n",
       "1           Cervus elaphus  3465\n",
       "2              Alces alces  1893\n",
       "3      Odocoileus hemionus  1747\n",
       "4    Antilocapra americana  1665\n",
       "5         Ursus americanus  1594\n",
       "6            Canis latrans  1096\n",
       "7             Ursus arctos  1086\n",
       "8              Canis lupus   608\n",
       "9   Odocoileus virginianus   330\n",
       "10        Alces americanus   275\n",
       "11                    None     6\n",
       "12              Sus scrofa     2"
      ]
     },
     "execution_count": 9,
     "metadata": {},
     "output_type": "execute_result"
    }
   ],
   "source": [
    "subset"
   ]
  },
  {
   "cell_type": "code",
   "execution_count": 10,
   "id": "3f89b3a1-b5fc-45ed-a0c8-2b64b8b97324",
   "metadata": {},
   "outputs": [],
   "source": [
    "data = {\n",
    "    \"species\": [\n",
    "    \"Bison bison\",\n",
    "    \"Cervus elaphus\",\n",
    "    \"Alces alces\",\n",
    "    \"Odocoileus hemionus\",\n",
    "    \"Antilocapra americana\",\n",
    "    \"Ursus americanus\",\n",
    "    \"Canis latrans\",\n",
    "    \"Ursus arctos\",\n",
    "    \"Canis lupus\",\n",
    "    \"Odocoileus virginianus\",\n",
    "    \"Alces americanus\",\n",
    "    \"Sus scrofa\"\n",
    "],\n",
    "    \"name\": [\n",
    "    \"American Bison\",\n",
    "    \"Red Deer\",\n",
    "    \"Moose\",\n",
    "    \"Mule Deer\",\n",
    "    \"Pronghorn\",\n",
    "    \"Black Bear\",\n",
    "    \"Coyote\",\n",
    "    \"Brown Bear\",\n",
    "    \"Gray Wolf\",\n",
    "    \"White-tailed Deer\",\n",
    "    \"American Moose\",\n",
    "    \"Wild Boar\"\n",
    "],\n",
    "    \"fill\": [\n",
    "        [128, 0, 128], [0, 0, 200], [100, 100, 0], [150, 75, 50], [255, 0, 0], [0, 255, 0], \n",
    "        [0, 200, 0],   [200, 0, 0], [150, 50, 150],  [200, 100, 0], [50, 200, 150], [100, 50, 200],\n",
    "    ],\n",
    "}\n",
    "colors = con.create_table(\"colors\", data, overwrite=True)\n"
   ]
  },
  {
   "cell_type": "code",
   "execution_count": 11,
   "id": "e245b067-b0e3-497d-8b43-0ac61817eaa6",
   "metadata": {},
   "outputs": [
    {
     "data": {
      "application/vnd.jupyter.widget-view+json": {
       "model_id": "60d7b14f3be74caaa994229c8c63f9e2",
       "version_major": 2,
       "version_minor": 0
      },
      "text/plain": [
       "FloatProgress(value=0.0, layout=Layout(width='auto'), style=ProgressStyle(bar_color='black'))"
      ]
     },
     "metadata": {},
     "output_type": "display_data"
    },
    {
     "data": {
      "text/plain": [
       "<duckdb.duckdb.DuckDBPyConnection at 0x72213406fbf0>"
      ]
     },
     "execution_count": 11,
     "metadata": {},
     "output_type": "execute_result"
    }
   ],
   "source": [
    "subset = (con\n",
    "  .read_parquet(\"s3://cboettig/gbif/2024-10-01/**\")\n",
    "  .filter( _.geom.within(poly_expr))\n",
    "  .filter(_.year > 2000)\n",
    "  .filter(_[\"family\"].isin(['Antilocapridae', 'Cervidae', 'Suidae']) |  _[\"genus\"].isin([\"Canis\", 'Ursus', 'Bison']))\n",
    "  .rename(hex = \"h11\")\n",
    "  .group_by(_[\"species\"], _[\"hex\"])\n",
    "  .agg(n = _.count())\n",
    "  .mutate(logn = _.n.log())\n",
    "  .mutate(value = (255 * _.logn / _.logn.max()).cast(\"int\"))\n",
    "  .join(colors, \"species\")\n",
    ")\n",
    "\n",
    "# .to_json() doesn't exist in ibis, use SQL\n",
    "query = ibis.to_sql(subset)\n",
    "con.raw_sql(f\"COPY ({query}) TO 's3://cboettig/gbif/json/mammals.json' (FORMAT JSON, ARRAY true);\")\n",
    "\n"
   ]
  },
  {
   "cell_type": "code",
   "execution_count": 12,
   "id": "bf5d8d0d-fccb-4bb8-bdc7-61c25250b03a",
   "metadata": {},
   "outputs": [],
   "source": [
    "url2 = base_url + \"/cboettig/gbif/json/mammals.json\"\n",
    "\n",
    "\n",
    "layer = pdk.Layer(\n",
    "            \"H3HexagonLayer\",\n",
    "            id=\"gbif\",\n",
    "            data=url2,\n",
    "            extruded=True,\n",
    "            get_elevation=\"value\",\n",
    "            get_hexagon=\"hex\",\n",
    "            elevation_scale = 200 * .1,\n",
    "            elevation_range = [0,1],\n",
    "            pickable=True,\n",
    "            auto_highlight=True,\n",
    "            get_fill_color=\"fill\",\n",
    "            )"
   ]
  },
  {
   "cell_type": "markdown",
   "id": "51fc544f-ddb9-4bbf-815e-45cc3c8755f6",
   "metadata": {},
   "source": [
    "# Cloud-native map layers with leafmap\n",
    "\n"
   ]
  },
  {
   "cell_type": "code",
   "execution_count": 13,
   "id": "1c1d6f97-8f49-4863-b0b5-536bd55e99d2",
   "metadata": {},
   "outputs": [
    {
     "data": {
      "application/vnd.jupyter.widget-view+json": {
       "model_id": "0062c932f08f437a91aa2d2a255408dd",
       "version_major": 2,
       "version_minor": 1
      },
      "text/plain": [
       "Map(height='600px', map_options={'bearing': 20, 'center': (-111, 44.5), 'pitch': 55, 'style': {'version': 8, '…"
      ]
     },
     "execution_count": 13,
     "metadata": {},
     "output_type": "execute_result"
    }
   ],
   "source": [
    "import leafmap.maplibregl as leafmap\n",
    "m = leafmap.Map(style= terrain_style, pitch=55, bearing=20,  center=[-111, 44.5], zoom=11,)\n",
    "\n",
    "m.add_deck_layers([layer], tooltip=\"Species: {{ name }}, count: {{ n }}\")\n",
    "#m.add_gdf(polygon[[\"SHAPE\"]], \"fill\", paint = {\"fill-opacity\": 0.2})\n",
    "m.to_html(\"common-mammals.html\", overwrite=True)\n",
    "m"
   ]
  }
 ],
 "metadata": {
  "kernelspec": {
   "display_name": "Python 3 (ipykernel)",
   "language": "python",
   "name": "python3"
  },
  "language_info": {
   "codemirror_mode": {
    "name": "ipython",
    "version": 3
   },
   "file_extension": ".py",
   "mimetype": "text/x-python",
   "name": "python",
   "nbconvert_exporter": "python",
   "pygments_lexer": "ipython3",
   "version": "3.12.7"
  }
 },
 "nbformat": 4,
 "nbformat_minor": 5
}
