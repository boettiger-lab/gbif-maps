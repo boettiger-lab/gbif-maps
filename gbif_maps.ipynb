{
 "cells": [
  {
   "cell_type": "code",
   "execution_count": 2,
   "id": "cc786afd-6e37-4ad1-bf84-b765b7407484",
   "metadata": {},
   "outputs": [],
   "source": [
    "import duckdb\n",
    "db = duckdb.connect()\n",
    "db.install_extension(\"h3\", repository = \"community\")\n",
    "db.close()"
   ]
  },
  {
   "cell_type": "code",
   "execution_count": 3,
   "id": "0821bb67-eec2-4738-a444-c7c1331cfcd3",
   "metadata": {},
   "outputs": [],
   "source": [
    "import ibis\n",
    "from ibis import _\n",
    "con = ibis.duckdb.connect(extensions=['httpfs', 'spatial', 'h3'])\n",
    "gbif = con.read_parquet(\"/home/jovyan/source.coop/cboettig//gbif/2024-10-01/**\")\n"
   ]
  },
  {
   "cell_type": "code",
   "execution_count": 4,
   "id": "85673e86-2f15-4038-834e-e92cae5e5639",
   "metadata": {},
   "outputs": [],
   "source": [
    "# enable ibis to use built-in function from the h3 extension\n",
    "@ibis.udf.scalar.builtin\n",
    "def h3_cell_to_boundary_wkt\t(array) -> str:\n",
    "    ..."
   ]
  },
  {
   "cell_type": "code",
   "execution_count": 5,
   "id": "b44e9103-748a-4e8b-a00a-87863c832b54",
   "metadata": {},
   "outputs": [
    {
     "data": {
      "text/plain": [
       "<duckdb.duckdb.DuckDBPyConnection at 0x796f099be7b0>"
      ]
     },
     "execution_count": 5,
     "metadata": {},
     "output_type": "execute_result"
    }
   ],
   "source": [
    "# Configure write-access to source.coop\n",
    "import streamlit as st\n",
    "source_key = st.secrets[\"SOURCE_KEY\"]\n",
    "source_secret = st.secrets[\"SOURCE_SECRET\"]\n",
    "\n",
    "query=   f'''\n",
    "CREATE OR REPLACE SECRET secret1 (\n",
    "    TYPE S3,\n",
    "    KEY_ID '{source_key}',\n",
    "    SECRET '{source_secret}',\n",
    "    ENDPOINT 'data.source.coop',\n",
    "    URL_STYLE 'path'\n",
    "\n",
    ");\n",
    "'''\n",
    "con.raw_sql(query)"
   ]
  },
  {
   "cell_type": "code",
   "execution_count": 6,
   "id": "3a96177f-d46c-40f4-a2db-84fc52a1edd3",
   "metadata": {
    "scrolled": true
   },
   "outputs": [
    {
     "data": {
      "application/vnd.jupyter.widget-view+json": {
       "model_id": "57e1c0c44dd74ed9a3e8687b7203b132",
       "version_major": 2,
       "version_minor": 0
      },
      "text/plain": [
       "FloatProgress(value=0.0, layout=Layout(width='auto'), style=ProgressStyle(bar_color='black'))"
      ]
     },
     "metadata": {},
     "output_type": "display_data"
    },
    {
     "name": "stdout",
     "output_type": "stream",
     "text": [
      "CPU times: user 1min 34s, sys: 25.2 s, total: 1min 59s\n",
      "Wall time: 9.82 s\n"
     ]
    }
   ],
   "source": [
    "%%time\n",
    "(gbif\n",
    "  .filter(_[\"class\"] == \"Mammalia\")\n",
    " # .filter(_.species == \"Canis latrans\")\n",
    "  .rename(hex = \"h5\")\n",
    "  .select(_.hex, _.species)\n",
    "  .distinct()\n",
    "  .group_by(_.hex)\n",
    "  .agg(n = _.count())\n",
    "#  .mutate(wkt =  h3_cell_to_boundary_wkt(_.hex))\n",
    "  .mutate(logn = _.n.log())\n",
    "  .mutate(value = (255 * _.logn / _.logn.max()).cast(\"int\"))\n",
    "  .to_csv(\"s3://cboettig/gbif/csv/gbif_hex_mammal_richness.csv\")\n",
    ")\n"
   ]
  },
  {
   "cell_type": "code",
   "execution_count": 7,
   "id": "acd90ef4-9fa2-476e-8981-03283359a6a3",
   "metadata": {},
   "outputs": [
    {
     "data": {
      "text/html": [
       "\n",
       "        <iframe\n",
       "            width=\"100%\"\n",
       "            height=500\n",
       "            frameborder=\"0\"\n",
       "            srcdoc=\"&lt;!DOCTYPE html&gt;\n",
       "&lt;html&gt;\n",
       "  &lt;head&gt;\n",
       "    &lt;meta http-equiv=&quot;content-type&quot; content=&quot;text/html; charset=UTF-8&quot; /&gt;\n",
       "    &lt;title&gt;pydeck&lt;/title&gt;\n",
       "        &lt;script src=&quot;https://api.tiles.mapbox.com/mapbox-gl-js/v1.13.0/mapbox-gl.js&quot;&gt;&lt;/script&gt;\n",
       "        &lt;link rel=&quot;stylesheet&quot; href=&quot;https://maxcdn.bootstrapcdn.com/bootstrap/3.2.0/css/bootstrap-theme.min.css&quot; /&gt;\n",
       "    &lt;link rel=&quot;stylesheet&quot; href=&quot;https://maxcdn.bootstrapcdn.com/font-awesome/4.6.3/css/font-awesome.min.css&quot; /&gt;\n",
       "    &lt;script src=&#x27;https://cdn.jsdelivr.net/npm/@deck.gl/jupyter-widget@~8.8.*/dist/index.js&#x27;&gt;&lt;/script&gt;\n",
       "    &lt;style&gt;\n",
       "    body {\n",
       "  margin: 0;\n",
       "  padding: 0;\n",
       "  overflow: hidden;\n",
       "}\n",
       "\n",
       "#deck-container {\n",
       "  width: 100vw;\n",
       "  height: 100vh;\n",
       "}\n",
       "\n",
       "#deck-container canvas {\n",
       "  z-index: 1;\n",
       "  background: none;\n",
       "}\n",
       "    &lt;/style&gt;\n",
       "  &lt;/head&gt;\n",
       "  &lt;body&gt;\n",
       "    &lt;div id=&quot;deck-container&quot;&gt;\n",
       "    &lt;/div&gt;\n",
       "  &lt;/body&gt;\n",
       "  &lt;script&gt;\n",
       "    const container = document.getElementById(&#x27;deck-container&#x27;);\n",
       "    const jsonInput = {\n",
       "  &quot;initialViewState&quot;: {\n",
       "    &quot;latitude&quot;: 51.47,\n",
       "    &quot;longitude&quot;: 0.45,\n",
       "    &quot;zoom&quot;: 0\n",
       "  },\n",
       "  &quot;layers&quot;: [\n",
       "    {\n",
       "      &quot;@@type&quot;: &quot;GeoJsonLayer&quot;,\n",
       "      &quot;data&quot;: &quot;https://d2ad6b4ur7yvpq.cloudfront.net/naturalearth-3.3.0/ne_50m_admin_0_scale_rank.geojson&quot;,\n",
       "      &quot;filled&quot;: true,\n",
       "      &quot;getFillColor&quot;: [\n",
       "        200,\n",
       "        200,\n",
       "        200\n",
       "      ],\n",
       "      &quot;id&quot;: &quot;base-map&quot;,\n",
       "      &quot;stroked&quot;: false\n",
       "    },\n",
       "    {\n",
       "      &quot;@@type&quot;: &quot;H3HexagonLayer&quot;,\n",
       "      &quot;autoHighlight&quot;: true,\n",
       "      &quot;data&quot;: &quot;https://data.source.coop/cboettig/gbif/csv/gbif_hex_mammal_richness.csv&quot;,\n",
       "      &quot;elevationRange&quot;: [\n",
       "        0,\n",
       "        1\n",
       "      ],\n",
       "      &quot;elevationScale&quot;: 500,\n",
       "      &quot;extruded&quot;: true,\n",
       "      &quot;getElevation&quot;: &quot;@@=value&quot;,\n",
       "      &quot;getFillColor&quot;: &quot;@@=[255 - value, 255, value]&quot;,\n",
       "      &quot;getHexagon&quot;: &quot;@@=hex&quot;,\n",
       "      &quot;id&quot;: &quot;gbif&quot;,\n",
       "      &quot;pickable&quot;: true\n",
       "    }\n",
       "  ],\n",
       "  &quot;mapStyle&quot;: &quot;dark&quot;,\n",
       "  &quot;parameters&quot;: {\n",
       "    &quot;cull&quot;: true\n",
       "  },\n",
       "  &quot;views&quot;: [\n",
       "    {\n",
       "      &quot;@@type&quot;: &quot;_GlobeView&quot;,\n",
       "      &quot;controller&quot;: true,\n",
       "      &quot;height&quot;: 600,\n",
       "      &quot;width&quot;: 1000\n",
       "    }\n",
       "  ]\n",
       "};\n",
       "    const tooltip = true;\n",
       "    const customLibraries = null;\n",
       "    const configuration = null;\n",
       "\n",
       "    const deckInstance = createDeck({\n",
       "                  container,\n",
       "      jsonInput,\n",
       "      tooltip,\n",
       "      customLibraries,\n",
       "      configuration\n",
       "    });\n",
       "\n",
       "  &lt;/script&gt;\n",
       "&lt;/html&gt;\"\n",
       "        ></iframe>\n",
       "    "
      ],
      "text/plain": [
       "<IPython.core.display.HTML object>"
      ]
     },
     "execution_count": 7,
     "metadata": {},
     "output_type": "execute_result"
    }
   ],
   "source": [
    "import pydeck as pdk\n",
    "import pandas as pd\n",
    "\n",
    "COUNTRIES = \"https://d2ad6b4ur7yvpq.cloudfront.net/naturalearth-3.3.0/ne_50m_admin_0_scale_rank.geojson\"\n",
    "GBIF = \"https://data.source.coop/cboettig/gbif/csv/gbif_hex_mammal_richness.csv\"\n",
    "\n",
    "view_state = pdk.ViewState(latitude=51.47, longitude=0.45, zoom=0)\n",
    "view = pdk.View(type=\"_GlobeView\", controller=True, width=1000, height=600)\n",
    "\n",
    "\n",
    "layers = [\n",
    "    pdk.Layer(\n",
    "        \"GeoJsonLayer\",\n",
    "        id=\"base-map\",\n",
    "        data=COUNTRIES,\n",
    "        stroked=False,\n",
    "        filled=True,\n",
    "        get_fill_color=[200, 200, 200],\n",
    "    ),\n",
    "    pdk.Layer(\n",
    "        \"H3HexagonLayer\",\n",
    "        id=\"gbif\",\n",
    "        data=GBIF,\n",
    "        extruded=True,\n",
    "        get_elevation=\"value\",\n",
    "        get_hexagon=\"hex\",\n",
    "        elevation_scale=500,\n",
    "        elevation_range = [0,1],\n",
    "        pickable=True,\n",
    "        auto_highlight=True,\n",
    "        get_fill_color=\"[255 - value, 255, value]\",\n",
    "    ),\n",
    "]\n",
    "\n",
    "deck = pdk.Deck(\n",
    "    views=[view],\n",
    "    initial_view_state=view_state,\n",
    "    layers=layers,\n",
    "    map_provider=None,\n",
    "    # Note that this must be set for the globe to be opaque\n",
    "    parameters={\"cull\": True},\n",
    ")\n",
    "deck.to_html(\"gbif_3d_mammal_richness.html\")"
   ]
  }
 ],
 "metadata": {
  "kernelspec": {
   "display_name": "Python 3 (ipykernel)",
   "language": "python",
   "name": "python3"
  },
  "language_info": {
   "codemirror_mode": {
    "name": "ipython",
    "version": 3
   },
   "file_extension": ".py",
   "mimetype": "text/x-python",
   "name": "python",
   "nbconvert_exporter": "python",
   "pygments_lexer": "ipython3",
   "version": "3.12.7"
  }
 },
 "nbformat": 4,
 "nbformat_minor": 5
}
