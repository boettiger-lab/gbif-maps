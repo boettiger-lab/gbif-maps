{
 "cells": [
  {
   "cell_type": "code",
   "execution_count": 1,
   "id": "cc786afd-6e37-4ad1-bf84-b765b7407484",
   "metadata": {},
   "outputs": [],
   "source": [
    "import duckdb\n",
    "db = duckdb.connect()\n",
    "db.install_extension(\"h3\", repository = \"community\")\n",
    "db.close()"
   ]
  },
  {
   "cell_type": "code",
   "execution_count": 2,
   "id": "0821bb67-eec2-4738-a444-c7c1331cfcd3",
   "metadata": {},
   "outputs": [],
   "source": [
    "import ibis\n",
    "from ibis import _\n",
    "con = ibis.duckdb.connect(extensions=['httpfs', 'spatial', 'h3'])\n"
   ]
  },
  {
   "cell_type": "code",
   "execution_count": 3,
   "id": "85673e86-2f15-4038-834e-e92cae5e5639",
   "metadata": {},
   "outputs": [],
   "source": [
    "# enable ibis to use built-in function from the h3 extension\n",
    "@ibis.udf.scalar.builtin\n",
    "def h3_cell_to_boundary_wkt\t(array) -> str:\n",
    "    ..."
   ]
  },
  {
   "cell_type": "code",
   "execution_count": 4,
   "id": "b44e9103-748a-4e8b-a00a-87863c832b54",
   "metadata": {},
   "outputs": [
    {
     "data": {
      "text/plain": [
       "<duckdb.duckdb.DuckDBPyConnection at 0x7b6f215f13b0>"
      ]
     },
     "execution_count": 4,
     "metadata": {},
     "output_type": "execute_result"
    }
   ],
   "source": [
    "# Configure write-access to source.coop\n",
    "import streamlit as st\n",
    "source_key = st.secrets[\"SOURCE_KEY\"]\n",
    "source_secret = st.secrets[\"SOURCE_SECRET\"]\n",
    "\n",
    "query=   f'''\n",
    "CREATE OR REPLACE SECRET secret1 (\n",
    "    TYPE S3,\n",
    "    KEY_ID '{source_key}',\n",
    "    SECRET '{source_secret}',\n",
    "    ENDPOINT 'data.source.coop',\n",
    "    URL_STYLE 'path'\n",
    "\n",
    ");\n",
    "'''\n",
    "\n",
    "minio_key = st.secrets[\"MINIO_KEY\"]\n",
    "minio_secret = st.secrets[\"MINIO_SECRET\"]\n",
    "query=   f'''\n",
    "CREATE OR REPLACE SECRET secret2 (\n",
    "    TYPE S3,\n",
    "    KEY_ID '{minio_key}',\n",
    "    SECRET '{minio_secret}',\n",
    "    ENDPOINT 'minio.carlboettiger.info',\n",
    "    URL_STYLE 'path'\n",
    "\n",
    ");\n",
    "'''\n",
    "\n",
    "con.raw_sql(query)"
   ]
  },
  {
   "cell_type": "code",
   "execution_count": 37,
   "id": "bf4d5c4e-2446-4241-86ae-99619220c048",
   "metadata": {},
   "outputs": [],
   "source": [
    "gbif = con.read_parquet(\"s3://cboettig/gbif/2024-10-01/**\")"
   ]
  },
  {
   "cell_type": "code",
   "execution_count": 18,
   "id": "3a96177f-d46c-40f4-a2db-84fc52a1edd3",
   "metadata": {
    "scrolled": true
   },
   "outputs": [
    {
     "data": {
      "application/vnd.jupyter.widget-view+json": {
       "model_id": "003a65aa6d244e218dd0f390c83fc40f",
       "version_major": 2,
       "version_minor": 0
      },
      "text/plain": [
       "FloatProgress(value=0.0, layout=Layout(width='auto'), style=ProgressStyle(bar_color='black'))"
      ]
     },
     "metadata": {},
     "output_type": "display_data"
    },
    {
     "name": "stdout",
     "output_type": "stream",
     "text": [
      "CPU times: user 4min 27s, sys: 1min 4s, total: 5min 31s\n",
      "Wall time: 16 s\n"
     ]
    }
   ],
   "source": [
    "%%time\n",
    "(gbif\n",
    "  .filter(_[\"class\"].isin([\"Insecta\"]))\n",
    "#  .filter(_[\"class\"].isin([\"Mammalia\", \"Insecta\", \"Aves\", \"Reptilia\", \"Amphibia\"])\n",
    " # .filter(_.species == \"Canis latrans\")\n",
    "  .rename(hex = \"h5\")\n",
    "  .select(_.hex, _.species)\n",
    "  .distinct()\n",
    "  .group_by(_.hex)\n",
    "  .agg(n = _.count())\n",
    "#  .mutate(wkt =  h3_cell_to_boundary_wkt(_.hex))\n",
    "  .mutate(logn = _.n.log())\n",
    "  .mutate(value = (255 * _.logn / _.logn.max()).cast(\"int\"))\n",
    "  .to_csv(\"s3://public-gbif/csv/gbif_hex_insect_richness.csv\")\n",
    ")\n"
   ]
  },
  {
   "cell_type": "code",
   "execution_count": 6,
   "id": "acd90ef4-9fa2-476e-8981-03283359a6a3",
   "metadata": {},
   "outputs": [
    {
     "data": {
      "text/html": [
       "\n",
       "        <iframe\n",
       "            width=\"100%\"\n",
       "            height=500\n",
       "            frameborder=\"0\"\n",
       "            srcdoc=\"&lt;!DOCTYPE html&gt;\n",
       "&lt;html&gt;\n",
       "  &lt;head&gt;\n",
       "    &lt;meta http-equiv=&quot;content-type&quot; content=&quot;text/html; charset=UTF-8&quot; /&gt;\n",
       "    &lt;title&gt;pydeck&lt;/title&gt;\n",
       "        &lt;script src=&quot;https://api.tiles.mapbox.com/mapbox-gl-js/v1.13.0/mapbox-gl.js&quot;&gt;&lt;/script&gt;\n",
       "        &lt;link rel=&quot;stylesheet&quot; href=&quot;https://maxcdn.bootstrapcdn.com/bootstrap/3.2.0/css/bootstrap-theme.min.css&quot; /&gt;\n",
       "    &lt;link rel=&quot;stylesheet&quot; href=&quot;https://maxcdn.bootstrapcdn.com/font-awesome/4.6.3/css/font-awesome.min.css&quot; /&gt;\n",
       "    &lt;script src=&#x27;https://cdn.jsdelivr.net/npm/@deck.gl/jupyter-widget@~8.8.*/dist/index.js&#x27;&gt;&lt;/script&gt;\n",
       "    &lt;style&gt;\n",
       "    body {\n",
       "  margin: 0;\n",
       "  padding: 0;\n",
       "  overflow: hidden;\n",
       "}\n",
       "\n",
       "#deck-container {\n",
       "  width: 100vw;\n",
       "  height: 100vh;\n",
       "}\n",
       "\n",
       "#deck-container canvas {\n",
       "  z-index: 1;\n",
       "  background: none;\n",
       "}\n",
       "    &lt;/style&gt;\n",
       "  &lt;/head&gt;\n",
       "  &lt;body&gt;\n",
       "    &lt;div id=&quot;deck-container&quot;&gt;\n",
       "    &lt;/div&gt;\n",
       "  &lt;/body&gt;\n",
       "  &lt;script&gt;\n",
       "    const container = document.getElementById(&#x27;deck-container&#x27;);\n",
       "    const jsonInput = {\n",
       "  &quot;initialViewState&quot;: {\n",
       "    &quot;latitude&quot;: 51.47,\n",
       "    &quot;longitude&quot;: 0.45,\n",
       "    &quot;zoom&quot;: 0\n",
       "  },\n",
       "  &quot;layers&quot;: [\n",
       "    {\n",
       "      &quot;@@type&quot;: &quot;GeoJsonLayer&quot;,\n",
       "      &quot;data&quot;: &quot;https://d2ad6b4ur7yvpq.cloudfront.net/naturalearth-3.3.0/ne_50m_admin_0_scale_rank.geojson&quot;,\n",
       "      &quot;filled&quot;: true,\n",
       "      &quot;getFillColor&quot;: [\n",
       "        200,\n",
       "        200,\n",
       "        200\n",
       "      ],\n",
       "      &quot;id&quot;: &quot;base-map&quot;,\n",
       "      &quot;stroked&quot;: false\n",
       "    },\n",
       "    {\n",
       "      &quot;@@type&quot;: &quot;H3HexagonLayer&quot;,\n",
       "      &quot;autoHighlight&quot;: true,\n",
       "      &quot;data&quot;: &quot;https://minio.carlboettiger.info/public-gbif/csv/gbif_hex_insect_richness.csv&quot;,\n",
       "      &quot;elevationRange&quot;: [\n",
       "        0,\n",
       "        1\n",
       "      ],\n",
       "      &quot;elevationScale&quot;: 50,\n",
       "      &quot;extruded&quot;: true,\n",
       "      &quot;getElevation&quot;: &quot;@@=value&quot;,\n",
       "      &quot;getFillColor&quot;: &quot;@@=[255 - value, 255, value]&quot;,\n",
       "      &quot;getHexagon&quot;: &quot;@@=hex&quot;,\n",
       "      &quot;id&quot;: &quot;gbif&quot;,\n",
       "      &quot;pickable&quot;: true\n",
       "    }\n",
       "  ],\n",
       "  &quot;mapStyle&quot;: &quot;dark&quot;,\n",
       "  &quot;parameters&quot;: {\n",
       "    &quot;cull&quot;: true\n",
       "  },\n",
       "  &quot;views&quot;: [\n",
       "    {\n",
       "      &quot;@@type&quot;: &quot;_GlobeView&quot;,\n",
       "      &quot;controller&quot;: true,\n",
       "      &quot;height&quot;: 600,\n",
       "      &quot;width&quot;: 1000\n",
       "    }\n",
       "  ]\n",
       "};\n",
       "    const tooltip = true;\n",
       "    const customLibraries = null;\n",
       "    const configuration = null;\n",
       "\n",
       "    const deckInstance = createDeck({\n",
       "                  container,\n",
       "      jsonInput,\n",
       "      tooltip,\n",
       "      customLibraries,\n",
       "      configuration\n",
       "    });\n",
       "\n",
       "  &lt;/script&gt;\n",
       "&lt;/html&gt;\"\n",
       "        ></iframe>\n",
       "    "
      ],
      "text/plain": [
       "<IPython.core.display.HTML object>"
      ]
     },
     "execution_count": 6,
     "metadata": {},
     "output_type": "execute_result"
    }
   ],
   "source": [
    "import pydeck as pdk\n",
    "import pandas as pd\n",
    "\n",
    "COUNTRIES = \"https://d2ad6b4ur7yvpq.cloudfront.net/naturalearth-3.3.0/ne_50m_admin_0_scale_rank.geojson\"\n",
    "GBIF = \"https://data.source.coop/cboettig/gbif/csv/gbif_hex_mammal_richness_z3.csv\"\n",
    "\n",
    "GBIF = \"https://minio.carlboettiger.info/public-gbif/csv/gbif_hex_insect_richness.csv\"\n",
    "\n",
    "view_state = pdk.ViewState(latitude=51.47, longitude=0.45, zoom=0)\n",
    "view = pdk.View(type=\"_GlobeView\", controller=True, width=1000, height=600)\n",
    "\n",
    "\n",
    "layers = [\n",
    "    pdk.Layer(\n",
    "        \"GeoJsonLayer\",\n",
    "        id=\"base-map\",\n",
    "        data=COUNTRIES,\n",
    "        stroked=False,\n",
    "        filled=True,\n",
    "        get_fill_color=[200, 200, 200],\n",
    "    ),\n",
    "    pdk.Layer(\n",
    "        \"H3HexagonLayer\",\n",
    "        id=\"gbif\",\n",
    "        data=GBIF,\n",
    "        extruded=True,\n",
    "        get_elevation=\"value\",\n",
    "        get_hexagon=\"hex\",\n",
    "        elevation_scale=50,\n",
    "        elevation_range = [0,1],\n",
    "        pickable=True,\n",
    "        auto_highlight=True,\n",
    "        get_fill_color=\"[255 - value, 255, value]\",\n",
    "    ),\n",
    "]\n",
    "\n",
    "deck = pdk.Deck(\n",
    "    views=[view],\n",
    "    initial_view_state=view_state,\n",
    "    layers=layers,\n",
    "    map_provider=None,\n",
    "    # Note that this must be set for the globe to be opaque\n",
    "    parameters={\"cull\": True},\n",
    ")\n",
    "\n",
    "deck.to_html(\"gbif.html\")"
   ]
  },
  {
   "cell_type": "markdown",
   "id": "e127b552-72b7-472f-8010-3e0bc5020ff5",
   "metadata": {},
   "source": [
    "# MapLibre"
   ]
  },
  {
   "cell_type": "code",
   "execution_count": 38,
   "id": "d4b1c5e1-2393-461b-999c-77b99bfa73fe",
   "metadata": {},
   "outputs": [
    {
     "data": {
      "application/vnd.jupyter.widget-view+json": {
       "model_id": "bf4744f5832c4a2095e6bb8e2b16ac11",
       "version_major": 2,
       "version_minor": 0
      },
      "text/plain": [
       "FloatProgress(value=0.0, layout=Layout(width='auto'), style=ProgressStyle(bar_color='black'))"
      ]
     },
     "metadata": {},
     "output_type": "display_data"
    }
   ],
   "source": [
    "\n",
    "## Filter to specific polygon (CA)\n",
    "import geopandas as gpd\n",
    "states = gpd.read_file(\"https://github.com/nvkelso/natural-earth-vector/raw/master/geojson/ne_110m_admin_1_states_provinces.geojson\")\n",
    "ca_polygon = states[states.name == 'California']\n",
    "ca_poly_expr = ibis.literal(ca_polygon.geometry.iloc[0])\n",
    "\n",
    "\n",
    "name = \"ca_bird_richness\"\n",
    "s3_csv = \"s3://public-gbif/csv/\" + name + \".csv\"\n",
    "\n",
    "subset = (gbif\n",
    "  .filter( _.geom.within(ca_poly_expr))\n",
    "  .filter(_[\"class\"] == \"Aves\")\n",
    "  .rename(hex = \"h10\")\n",
    "  .select(_.hex, _.species)\n",
    "  .distinct()\n",
    "  .group_by(_.hex)\n",
    "  .agg(n = _.count())\n",
    "#  .mutate(wkt =  h3_cell_to_boundary_wkt(_.hex))\n",
    "  .mutate(logn = _.n.log())\n",
    "  .mutate(value = (255 * _.logn / _.logn.max()).cast(\"int\"))\n",
    "  .to_csv(s3_csv)\n",
    ")\n",
    "\n",
    "\n",
    "\n"
   ]
  },
  {
   "cell_type": "code",
   "execution_count": 29,
   "id": "3f5d795f-909e-4950-9704-fa32e66fe5a6",
   "metadata": {},
   "outputs": [
    {
     "data": {
      "text/plain": [
       "<minio.helpers.ObjectWriteResult at 0x7b6ef2768ad0>"
      ]
     },
     "execution_count": 29,
     "metadata": {},
     "output_type": "execute_result"
    }
   ],
   "source": [
    "# maplibre wants json, not csv, shuffle shuffle\n",
    "import minio\n",
    "client = minio.Minio(\"minio.carlboettiger.info\", minio_key, minio_secret)\n",
    "con.read_csv(s3_csv).execute().to_json(name + \".json\", orient='records', indent=2)\n",
    "client.fput_object(\"public-gbif\", \"csv/\" + name + \".json\", name + \".json\")"
   ]
  },
  {
   "cell_type": "code",
   "execution_count": 35,
   "id": "7ef08a24-b2cf-41e6-bc0f-6ad10a4db5c9",
   "metadata": {},
   "outputs": [
    {
     "data": {
      "application/vnd.jupyter.widget-view+json": {
       "model_id": "d4f93a4170aa43db91f1ba0a2f73b3ef",
       "version_major": 2,
       "version_minor": 1
      },
      "text/plain": [
       "Map(height='600px', map_options={'bearing': 0, 'center': (-121.9, 39.3), 'pitch': 0, 'style': 'https://basemap…"
      ]
     },
     "execution_count": 35,
     "metadata": {},
     "output_type": "execute_result"
    }
   ],
   "source": [
    "import leafmap.maplibregl as leafmap\n",
    "import pydeck as pdk\n",
    "m = leafmap.Map(center=[-121.9, 39.3], zoom=6, style=\"positron\")\n",
    "\n",
    "url = \"https://minio.carlboettiger.info/public-gbif/csv/ca_bird_richness.json\"\n",
    "\n",
    "\n",
    "source = {\n",
    "    \"type\": \"geojson\", \n",
    "    'data': 'https://data.source.coop/cboettig/us-boundaries/mappinginequality.json',\n",
    "  #  'filter': ['==', ['get', 'city'], 'New Haven']\n",
    "}\n",
    "redlining = {\n",
    "    \"id\": \"redlining\",\n",
    "    \"type\": \"fill\",\n",
    "    \"source\": \"geojson\",\n",
    "     'paint': {\n",
    "        \"fill-color\": [\"get\", \"fill\"], # color by the column called \"fill\"\n",
    "        \"fill-opacity\": 0.8,\n",
    "    },\n",
    "}\n",
    "\n",
    "text_layer = {\n",
    "    \"id\": \"labels\",\n",
    "    \"type\": \"symbol\",\n",
    "    \"source\": \"geojson\",\n",
    "    \"layout\": {\n",
    "        \"text-field\": [\"get\", \"label\"],\n",
    "        \"text_size\": 14,\n",
    "        'text-font': ['Open Sans Bold'],\n",
    "        \"text-anchor\": \"center\",\n",
    "    },\n",
    "     'paint': { 'text-color': '#ffffff'}\n",
    "}\n",
    "\n",
    "\n",
    "gbif =  pdk.Layer(\n",
    "        \"H3HexagonLayer\",\n",
    "        id=\"gbif\",\n",
    "        data=url,\n",
    "        extruded=True,\n",
    "        get_elevation=\"value\",\n",
    "        get_hexagon=\"hex\",\n",
    "        elevation_scale=20,\n",
    "        elevation_range = [0,1],\n",
    "        pickable=True,\n",
    "        auto_highlight=True,\n",
    "        get_fill_color=\"[255, 255 - value, value]\",\n",
    "    )\n",
    "\n",
    "#m.add_basemap(\"Esri.NatGeoWorldMap\")\n",
    "m.add_source(\"geojson\", source)\n",
    "m.add_layer(redlining)\n",
    "m.add_layer(text_layer)\n",
    "m.add_deck_layers([gbif])\n",
    "m.add_layer_control()\n",
    "\n",
    "m.to_html(\"ca_bird_richness.html\", overwrite=True)\n",
    "\n",
    "m"
   ]
  },
  {
   "cell_type": "code",
   "execution_count": 26,
   "id": "5e8c4c86-81c5-4256-8cea-7683f35003af",
   "metadata": {},
   "outputs": [
    {
     "data": {
      "text/html": [
       "\n",
       "        <iframe\n",
       "            width=\"100%\"\n",
       "            height=500\n",
       "            frameborder=\"0\"\n",
       "            srcdoc=\"&lt;!DOCTYPE html&gt;\n",
       "&lt;html&gt;\n",
       "  &lt;head&gt;\n",
       "    &lt;meta http-equiv=&quot;content-type&quot; content=&quot;text/html; charset=UTF-8&quot; /&gt;\n",
       "    &lt;title&gt;pydeck&lt;/title&gt;\n",
       "        &lt;script src=&quot;https://api.tiles.mapbox.com/mapbox-gl-js/v1.13.0/mapbox-gl.js&quot;&gt;&lt;/script&gt;\n",
       "        &lt;link rel=&quot;stylesheet&quot; href=&quot;https://maxcdn.bootstrapcdn.com/bootstrap/3.2.0/css/bootstrap-theme.min.css&quot; /&gt;\n",
       "    &lt;link rel=&quot;stylesheet&quot; href=&quot;https://maxcdn.bootstrapcdn.com/font-awesome/4.6.3/css/font-awesome.min.css&quot; /&gt;\n",
       "    &lt;script src=&#x27;https://cdn.jsdelivr.net/npm/@deck.gl/jupyter-widget@~8.8.*/dist/index.js&#x27;&gt;&lt;/script&gt;\n",
       "    &lt;style&gt;\n",
       "    body {\n",
       "  margin: 0;\n",
       "  padding: 0;\n",
       "  overflow: hidden;\n",
       "}\n",
       "\n",
       "#deck-container {\n",
       "  width: 100vw;\n",
       "  height: 100vh;\n",
       "}\n",
       "\n",
       "#deck-container canvas {\n",
       "  z-index: 1;\n",
       "  background: none;\n",
       "}\n",
       "    &lt;/style&gt;\n",
       "  &lt;/head&gt;\n",
       "  &lt;body&gt;\n",
       "    &lt;div id=&quot;deck-container&quot;&gt;\n",
       "    &lt;/div&gt;\n",
       "  &lt;/body&gt;\n",
       "  &lt;script&gt;\n",
       "    const container = document.getElementById(&#x27;deck-container&#x27;);\n",
       "    const jsonInput = {\n",
       "  &quot;initialViewState&quot;: {\n",
       "    &quot;latitude&quot;: 37.74,\n",
       "    &quot;longitude&quot;: -122.4,\n",
       "    &quot;zoom&quot;: 10\n",
       "  },\n",
       "  &quot;layers&quot;: [\n",
       "    [\n",
       "      {\n",
       "        &quot;@@type&quot;: &quot;H3HexagonLayer&quot;,\n",
       "        &quot;autoHighlight&quot;: true,\n",
       "        &quot;data&quot;: &quot;https://minio.carlboettiger.info/public-biodiversity/test.csv&quot;,\n",
       "        &quot;elevationRange&quot;: [\n",
       "          0,\n",
       "          1\n",
       "        ],\n",
       "        &quot;elevationScale&quot;: 50,\n",
       "        &quot;extruded&quot;: true,\n",
       "        &quot;getElevation&quot;: &quot;@@=count&quot;,\n",
       "        &quot;getFillColor&quot;: &quot;@@=[255 - count, 255, count]&quot;,\n",
       "        &quot;getHexagon&quot;: &quot;@@=hex&quot;,\n",
       "        &quot;id&quot;: &quot;gbif&quot;,\n",
       "        &quot;pickable&quot;: true\n",
       "      }\n",
       "    ]\n",
       "  ],\n",
       "  &quot;mapProvider&quot;: &quot;carto&quot;,\n",
       "  &quot;mapStyle&quot;: &quot;https://basemaps.cartocdn.com/gl/dark-matter-gl-style/style.json&quot;,\n",
       "  &quot;views&quot;: [\n",
       "    {\n",
       "      &quot;@@type&quot;: &quot;MapView&quot;,\n",
       "      &quot;controller&quot;: true\n",
       "    }\n",
       "  ]\n",
       "};\n",
       "    const tooltip = true;\n",
       "    const customLibraries = null;\n",
       "    const configuration = null;\n",
       "\n",
       "    const deckInstance = createDeck({\n",
       "                  container,\n",
       "      jsonInput,\n",
       "      tooltip,\n",
       "      customLibraries,\n",
       "      configuration\n",
       "    });\n",
       "\n",
       "  &lt;/script&gt;\n",
       "&lt;/html&gt;\"\n",
       "        ></iframe>\n",
       "    "
      ],
      "text/plain": [
       "{\n",
       "  \"initialViewState\": {\n",
       "    \"latitude\": 37.74,\n",
       "    \"longitude\": -122.4,\n",
       "    \"zoom\": 10\n",
       "  },\n",
       "  \"layers\": [\n",
       "    [\n",
       "      {\n",
       "        \"@@type\": \"H3HexagonLayer\",\n",
       "        \"autoHighlight\": true,\n",
       "        \"data\": \"https://minio.carlboettiger.info/public-biodiversity/test.csv\",\n",
       "        \"elevationRange\": [\n",
       "          0,\n",
       "          1\n",
       "        ],\n",
       "        \"elevationScale\": 50,\n",
       "        \"extruded\": true,\n",
       "        \"getElevation\": \"@@=count\",\n",
       "        \"getFillColor\": \"@@=[255 - count, 255, count]\",\n",
       "        \"getHexagon\": \"@@=hex\",\n",
       "        \"id\": \"gbif\",\n",
       "        \"pickable\": true\n",
       "      }\n",
       "    ]\n",
       "  ],\n",
       "  \"mapProvider\": \"carto\",\n",
       "  \"mapStyle\": \"https://basemaps.cartocdn.com/gl/dark-matter-gl-style/style.json\",\n",
       "  \"views\": [\n",
       "    {\n",
       "      \"@@type\": \"MapView\",\n",
       "      \"controller\": true\n",
       "    }\n",
       "  ]\n",
       "}"
      ]
     },
     "execution_count": 26,
     "metadata": {},
     "output_type": "execute_result"
    }
   ],
   "source": [
    "import pydeck as pdk\n",
    "csv_url = \"https://minio.carlboettiger.info/public-biodiversity/test.csv\"\n",
    "layer = pdk.Layer(\n",
    "        \"H3HexagonLayer\",\n",
    "        id=\"gbif\",\n",
    "        data=csv_url,\n",
    "        extruded=True,\n",
    "        get_elevation=\"count\",\n",
    "        get_hexagon=\"hex\",\n",
    "        elevation_scale=50,\n",
    "        elevation_range = [0,1],\n",
    "        pickable=True,\n",
    "        auto_highlight=True,\n",
    "        get_fill_color=\"[255 - count, 255, count]\",\n",
    "    ),\n",
    "\n",
    "view_state = pdk.ViewState(latitude=37.74, longitude=-122.4, zoom=10)\n",
    "pdk.Deck(initial_view_state = view_state, layers = [layer])\n",
    "\n"
   ]
  },
  {
   "cell_type": "code",
   "execution_count": 27,
   "id": "616728bf-ba80-4c3a-8a6e-5732a57b849e",
   "metadata": {},
   "outputs": [
    {
     "data": {
      "application/vnd.jupyter.widget-view+json": {
       "model_id": "4c97055b47ab4b1187c1b0e8b32d6228",
       "version_major": 2,
       "version_minor": 1
      },
      "text/plain": [
       "MapWidget(height='400px', map_options={'center': (-122.4, 37.74), 'style': 'https://basemaps.cartocdn.com/gl/d…"
      ]
     },
     "execution_count": 27,
     "metadata": {},
     "output_type": "execute_result"
    }
   ],
   "source": [
    "from maplibre import MapOptions\n",
    "from maplibre.basemaps import Carto\n",
    "from maplibre.controls import NavigationControl\n",
    "from maplibre.ipywidget import MapWidget as Map\n",
    "m = Map(MapOptions(center=(-122.4, 37.74), zoom=10), controls=[NavigationControl()])\n",
    "m.add_deck_layers([layer])\n",
    "m"
   ]
  }
 ],
 "metadata": {
  "kernelspec": {
   "display_name": "Python 3 (ipykernel)",
   "language": "python",
   "name": "python3"
  },
  "language_info": {
   "codemirror_mode": {
    "name": "ipython",
    "version": 3
   },
   "file_extension": ".py",
   "mimetype": "text/x-python",
   "name": "python",
   "nbconvert_exporter": "python",
   "pygments_lexer": "ipython3",
   "version": "3.12.7"
  }
 },
 "nbformat": 4,
 "nbformat_minor": 5
}
