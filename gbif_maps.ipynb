{
 "cells": [
  {
   "cell_type": "code",
   "execution_count": null,
   "id": "cc786afd-6e37-4ad1-bf84-b765b7407484",
   "metadata": {},
   "outputs": [],
   "source": [
    "import duckdb\n",
    "db = duckdb.connect()\n",
    "db.install_extension(\"h3\", repository = \"community\")\n",
    "db.close()"
   ]
  },
  {
   "cell_type": "code",
   "execution_count": null,
   "id": "0821bb67-eec2-4738-a444-c7c1331cfcd3",
   "metadata": {},
   "outputs": [],
   "source": [
    "import ibis\n",
    "from ibis import _\n",
    "con = ibis.duckdb.connect(extensions=['httpfs', 'spatial', 'h3'])\n",
    "gbif = con.read_parquet(\"../gbif_hex/**\")\n"
   ]
  },
  {
   "cell_type": "code",
   "execution_count": null,
   "id": "85673e86-2f15-4038-834e-e92cae5e5639",
   "metadata": {},
   "outputs": [],
   "source": [
    "# enable ibis to use built-in function from the h3 extension\n",
    "@ibis.udf.scalar.builtin\n",
    "def h3_cell_to_boundary_wkt\t(array) -> str:\n",
    "    ..."
   ]
  },
  {
   "cell_type": "code",
   "execution_count": null,
   "id": "b44e9103-748a-4e8b-a00a-87863c832b54",
   "metadata": {},
   "outputs": [],
   "source": [
    "# Configure write-access to source.coop\n",
    "import streamlit as st\n",
    "source_key = st.secrets[\"SOURCE_KEY\"]\n",
    "source_secret = st.secrets[\"SOURCE_SECRET\"]\n",
    "\n",
    "query=   f'''\n",
    "CREATE OR REPLACE SECRET secret1 (\n",
    "    TYPE S3,\n",
    "    KEY_ID '{source_key}',\n",
    "    SECRET '{source_secret}',\n",
    "    ENDPOINT 'data.source.coop',\n",
    "    URL_STYLE 'path'\n",
    "\n",
    ");\n",
    "'''\n",
    "con.raw_sql(query)"
   ]
  },
  {
   "cell_type": "code",
   "execution_count": null,
   "id": "3a96177f-d46c-40f4-a2db-84fc52a1edd3",
   "metadata": {
    "scrolled": true
   },
   "outputs": [],
   "source": [
    "(gbif\n",
    " # .filter(_[\"class\"] == \"Mammalia\")\n",
    "  .filter(_.species == \"Megaptera novaeangliae\")\n",
    "  .rename(hex = \"h7\")\n",
    "  .group_by(_.hex)\n",
    "  .agg(n = _.count())\n",
    "#  .mutate(wkt =  h3_cell_to_boundary_wkt(_.hex))\n",
    "  .mutate(logn = _.n.log())\n",
    "  .mutate(value = (255 * _.logn / _.logn.max()).cast(\"int\"))\n",
    "  .to_csv(\"s3://cboettig/gbif/csv/gbif_hex_humpback_whale.csv\")\n",
    ")\n"
   ]
  },
  {
   "cell_type": "code",
   "execution_count": null,
   "id": "acd90ef4-9fa2-476e-8981-03283359a6a3",
   "metadata": {},
   "outputs": [],
   "source": [
    "import pydeck as pdk\n",
    "import pandas as pd\n",
    "\n",
    "COUNTRIES = \"https://d2ad6b4ur7yvpq.cloudfront.net/naturalearth-3.3.0/ne_50m_admin_0_scale_rank.geojson\"\n",
    "GBIF = \"https://data.source.coop/cboettig/gbif/csv/gbif_hex_humpback_whale.csv\"\n",
    "\n",
    "view_state = pdk.ViewState(latitude=51.47, longitude=0.45, zoom=0)\n",
    "view = pdk.View(type=\"_GlobeView\", controller=True, width=1000, height=600)\n",
    "\n",
    "\n",
    "layers = [\n",
    "    pdk.Layer(\n",
    "        \"GeoJsonLayer\",\n",
    "        id=\"base-map\",\n",
    "        data=COUNTRIES,\n",
    "        stroked=False,\n",
    "        filled=True,\n",
    "        get_fill_color=[200, 200, 200],\n",
    "    ),\n",
    "    pdk.Layer(\n",
    "        \"H3HexagonLayer\",\n",
    "        id=\"gbif\",\n",
    "        data=GBIF,\n",
    "        extruded=True,\n",
    "        get_elevation=\"value\",\n",
    "        get_hexagon=\"hex\",\n",
    "        elevation_scale=500,\n",
    "        elevation_range = [0,1],\n",
    "        pickable=True,\n",
    "        auto_highlight=True,\n",
    "        get_fill_color=\"[255 - value, 255, value]\",\n",
    "    ),\n",
    "]\n",
    "\n",
    "deck = pdk.Deck(\n",
    "    views=[view],\n",
    "    initial_view_state=view_state,\n",
    "    layers=layers,\n",
    "    map_provider=None,\n",
    "    # Note that this must be set for the globe to be opaque\n",
    "    parameters={\"cull\": True},\n",
    ")\n",
    "deck.to_html(\"gbif_3d_humpback_whale.html\")"
   ]
  }
 ],
 "metadata": {
  "kernelspec": {
   "display_name": "Python 3 (ipykernel)",
   "language": "python",
   "name": "python3"
  },
  "language_info": {
   "codemirror_mode": {
    "name": "ipython",
    "version": 3
   },
   "file_extension": ".py",
   "mimetype": "text/x-python",
   "name": "python",
   "nbconvert_exporter": "python",
   "pygments_lexer": "ipython3",
   "version": "3.12.7"
  }
 },
 "nbformat": 4,
 "nbformat_minor": 5
}
