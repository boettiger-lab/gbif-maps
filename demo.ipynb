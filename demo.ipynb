{
 "cells": [
  {
   "cell_type": "markdown",
   "id": "eec96d5f-fc78-4cb0-ad0f-5608a9294f72",
   "metadata": {},
   "source": [
    "# Using Source.Coop to add value to a half-terrabyte public dataset\n",
    "\n",
    "\n",
    "_The magic of object stores_\n",
    "\n",
    "\n",
    "\n",
    "## 1. Stream data _from_ source.coop\n",
    "\n",
    "## 2. Stream data _to_ source.coop\n"
   ]
  },
  {
   "cell_type": "code",
   "execution_count": 2,
   "id": "48a16400-3031-455e-92ce-bf912a090fb2",
   "metadata": {},
   "outputs": [],
   "source": [
    "import ibis\n",
    "from ibis import _\n",
    "import pydeck as pdk\n",
    "from boilerplate import *"
   ]
  },
  {
   "cell_type": "markdown",
   "id": "3c99f364-e6da-4dbd-b6b7-549c79c33f84",
   "metadata": {},
   "source": [
    "\n",
    "\n",
    "First I computed **[H3 heirarchical spatial indexes](https://h3geo.org)** using [duckdb](https://github.com/boettiger-lab/gbif-maps/blob/main/gbif_as_h3.py) for the Global Biodiversity Information Facility (GBIF) & upload to [source.coop/cboettig/gbif](https://source.coop/cboettig/gbif/).   (***> 24 hrs, 430 GB, 3 billion+ observations***)\n",
    "\n",
    "Now let's compute over _all the data in seconds_.\n"
   ]
  },
  {
   "cell_type": "code",
   "execution_count": 3,
   "id": "62fa95cf-5d5c-4340-aaad-f84838046b1c",
   "metadata": {},
   "outputs": [],
   "source": [
    "con = ibis.duckdb.connect(extensions=['httpfs', 'spatial', 'h3'])\n",
    "set_secrets(con) # s3 credentials\n"
   ]
  },
  {
   "cell_type": "code",
   "execution_count": 6,
   "id": "f5d8f550-6624-47e8-96a6-5a15b5cacd93",
   "metadata": {},
   "outputs": [
    {
     "data": {
      "application/vnd.jupyter.widget-view+json": {
       "model_id": "ce46ad6c2d1046d39501f6400c038305",
       "version_major": 2,
       "version_minor": 0
      },
      "text/plain": [
       "FloatProgress(value=0.0, layout=Layout(width='auto'), style=ProgressStyle(bar_color='black'))"
      ]
     },
     "metadata": {},
     "output_type": "display_data"
    },
    {
     "name": "stdout",
     "output_type": "stream",
     "text": [
      "CPU times: user 2min 8s, sys: 18.4 s, total: 2min 26s\n",
      "Wall time: 11.8 s\n"
     ]
    }
   ],
   "source": [
    "%%time\n",
    "\n",
    "dest = \"csv/gbif_demo.csv\"\n",
    "(con\n",
    "  .read_parquet(\"s3://cboettig/gbif/2024-10-01/**\")\n",
    "  .filter(_[\"class\"].isin([\"Insecta\"]))\n",
    "  .rename(hex = \"h5\")                   # h3 == 41,150 hexes.  h5 == 2,016,830 hexes\t\n",
    "  .group_by(_.hex)\n",
    "  .agg(n = _.count())\n",
    "  .mutate(logn = _.n.log())\n",
    "  .mutate(value = (255 * _.logn / _.logn.max()).cast(\"int\")) # normalized color-scale\n",
    "  .to_csv(\"s3://cboettig/gbif/\" + dest)\n",
    ")"
   ]
  },
  {
   "cell_type": "markdown",
   "id": "d748fd36-1e1a-4a00-9712-218d487f2e52",
   "metadata": {},
   "source": [
    "# Cloud-native visualization\n",
    "\n",
    "## from source.coop\n",
    "\n",
    "Use deck.gl, where the data later is passed as URL, only read client-side"
   ]
  },
  {
   "cell_type": "code",
   "execution_count": 7,
   "id": "5bfd4a7d-42f7-4e02-8821-3aa034c79026",
   "metadata": {},
   "outputs": [
    {
     "data": {
      "text/html": [
       "\n",
       "        <iframe\n",
       "            width=\"100%\"\n",
       "            height=500\n",
       "            frameborder=\"0\"\n",
       "            srcdoc=\"&lt;!DOCTYPE html&gt;\n",
       "&lt;html&gt;\n",
       "  &lt;head&gt;\n",
       "    &lt;meta http-equiv=&quot;content-type&quot; content=&quot;text/html; charset=UTF-8&quot; /&gt;\n",
       "    &lt;title&gt;pydeck&lt;/title&gt;\n",
       "        &lt;script src=&quot;https://api.tiles.mapbox.com/mapbox-gl-js/v1.13.0/mapbox-gl.js&quot;&gt;&lt;/script&gt;\n",
       "        &lt;link rel=&quot;stylesheet&quot; href=&quot;https://maxcdn.bootstrapcdn.com/bootstrap/3.2.0/css/bootstrap-theme.min.css&quot; /&gt;\n",
       "    &lt;link rel=&quot;stylesheet&quot; href=&quot;https://maxcdn.bootstrapcdn.com/font-awesome/4.6.3/css/font-awesome.min.css&quot; /&gt;\n",
       "    &lt;script src=&#x27;https://cdn.jsdelivr.net/npm/@deck.gl/jupyter-widget@~8.8.*/dist/index.js&#x27;&gt;&lt;/script&gt;\n",
       "    &lt;style&gt;\n",
       "    body {\n",
       "  margin: 0;\n",
       "  padding: 0;\n",
       "  overflow: hidden;\n",
       "}\n",
       "\n",
       "#deck-container {\n",
       "  width: 100vw;\n",
       "  height: 100vh;\n",
       "}\n",
       "\n",
       "#deck-container canvas {\n",
       "  z-index: 1;\n",
       "  background: none;\n",
       "}\n",
       "    &lt;/style&gt;\n",
       "  &lt;/head&gt;\n",
       "  &lt;body&gt;\n",
       "    &lt;div id=&quot;deck-container&quot;&gt;\n",
       "    &lt;/div&gt;\n",
       "  &lt;/body&gt;\n",
       "  &lt;script&gt;\n",
       "    const container = document.getElementById(&#x27;deck-container&#x27;);\n",
       "    const jsonInput = {\n",
       "  &quot;initialViewState&quot;: {\n",
       "    &quot;latitude&quot;: 51.47,\n",
       "    &quot;longitude&quot;: 0.45,\n",
       "    &quot;zoom&quot;: 0\n",
       "  },\n",
       "  &quot;layers&quot;: [\n",
       "    {\n",
       "      &quot;@@type&quot;: &quot;GeoJsonLayer&quot;,\n",
       "      &quot;data&quot;: &quot;https://d2ad6b4ur7yvpq.cloudfront.net/naturalearth-3.3.0/ne_50m_admin_0_scale_rank.geojson&quot;,\n",
       "      &quot;filled&quot;: true,\n",
       "      &quot;getFillColor&quot;: [\n",
       "        200,\n",
       "        200,\n",
       "        200\n",
       "      ],\n",
       "      &quot;id&quot;: &quot;base-map&quot;,\n",
       "      &quot;stroked&quot;: false\n",
       "    },\n",
       "    {\n",
       "      &quot;@@type&quot;: &quot;H3HexagonLayer&quot;,\n",
       "      &quot;autoHighlight&quot;: true,\n",
       "      &quot;data&quot;: &quot;https://minio.carlboettiger.info/cboettig/gbif/csv/gbif_demo.csv&quot;,\n",
       "      &quot;elevationRange&quot;: [\n",
       "        0,\n",
       "        1\n",
       "      ],\n",
       "      &quot;elevationScale&quot;: 200,\n",
       "      &quot;extruded&quot;: true,\n",
       "      &quot;getElevation&quot;: &quot;@@=value&quot;,\n",
       "      &quot;getFillColor&quot;: &quot;@@=[255 - value, 255, value]&quot;,\n",
       "      &quot;getHexagon&quot;: &quot;@@=hex&quot;,\n",
       "      &quot;id&quot;: &quot;gbif&quot;,\n",
       "      &quot;pickable&quot;: true\n",
       "    }\n",
       "  ],\n",
       "  &quot;mapStyle&quot;: &quot;dark&quot;,\n",
       "  &quot;parameters&quot;: {\n",
       "    &quot;cull&quot;: true\n",
       "  },\n",
       "  &quot;views&quot;: [\n",
       "    {\n",
       "      &quot;@@type&quot;: &quot;_GlobeView&quot;,\n",
       "      &quot;controller&quot;: true,\n",
       "      &quot;height&quot;: 600,\n",
       "      &quot;width&quot;: 1000\n",
       "    }\n",
       "  ]\n",
       "};\n",
       "    const tooltip = true;\n",
       "    const customLibraries = null;\n",
       "    const configuration = null;\n",
       "\n",
       "    const deckInstance = createDeck({\n",
       "                  container,\n",
       "      jsonInput,\n",
       "      tooltip,\n",
       "      customLibraries,\n",
       "      configuration\n",
       "    });\n",
       "\n",
       "  &lt;/script&gt;\n",
       "&lt;/html&gt;\"\n",
       "        ></iframe>\n",
       "    "
      ],
      "text/plain": [
       "<IPython.core.display.HTML object>"
      ]
     },
     "execution_count": 7,
     "metadata": {},
     "output_type": "execute_result"
    }
   ],
   "source": [
    "url = base_url + \"/cboettig/gbif/\" + dest\n",
    "\n",
    "# Render with deck-gl\n",
    "layer = HexagonLayer(url)\n",
    "deck = DeckGlobe(layer)\n",
    "\n",
    "deck.to_html(\"globe.html\")"
   ]
  },
  {
   "cell_type": "code",
   "execution_count": null,
   "id": "c55df18d-6466-4b2f-bf64-01d4e7197ac5",
   "metadata": {},
   "outputs": [],
   "source": []
  },
  {
   "cell_type": "code",
   "execution_count": null,
   "id": "2df98f67-9170-48f3-8d12-c121d8e8059d",
   "metadata": {},
   "outputs": [],
   "source": [
    "# Post the map itself to source\n",
    "client = s3_client()\n",
    "client.fput_object(\"cboettig\", \"gbif/maps/\" + \"globe.html\", \"globe.html\")"
   ]
  },
  {
   "cell_type": "markdown",
   "id": "c9878217-3076-46ea-ac32-347190cc6eba",
   "metadata": {},
   "source": [
    "\n",
    "---\n"
   ]
  },
  {
   "cell_type": "markdown",
   "id": "5e58c4d4-f6c5-4e21-9516-32cc3376e51f",
   "metadata": {},
   "source": [
    "# Zooming in"
   ]
  },
  {
   "cell_type": "code",
   "execution_count": null,
   "id": "e2e5a1e3-7f4c-40aa-aaa6-ab4f0e5f834a",
   "metadata": {},
   "outputs": [],
   "source": [
    "## grab polygon of a National park:\n",
    "polygon = (con\n",
    "        .read_geo(\"/vsicurl/https://huggingface.co/datasets/cboettig/biodiversity/resolve/main/data/NPS.gdb\")\n",
    "        .filter(_.UNIT_NAME == \"Yosemite National Park\")\n",
    "        .mutate(SHAPE = _.SHAPE.convert('EPSG:3857', 'EPSG:4326'))\n",
    "        .execute()\n",
    "       )\n",
    "\n",
    "poly_expr = ibis.literal(polygon.geometry.iloc[0])"
   ]
  },
  {
   "cell_type": "code",
   "execution_count": null,
   "id": "0933c076-fc64-478a-9779-d1a7bc43c977",
   "metadata": {},
   "outputs": [],
   "source": [
    "%%time\n",
    "subset = (con\n",
    "  .read_parquet(\"s3://cboettig/gbif/2024-10-01/**\")\n",
    "  .filter( _.geom.within(poly_expr))\n",
    "  .filter(_[\"genus\"] == \"Ursus\") \n",
    " # .filter(_[\"species\"] == \"Marmota flaviventris\")\n",
    "  .rename(hex = \"h9\")\n",
    "  .group_by(_.hex)\n",
    "  .agg(n = _.count())\n",
    "  .mutate(logn = _.n.log())\n",
    "  .mutate(value = (255 * _.logn / _.logn.max()).cast(\"int\"))\n",
    ")\n",
    "\n",
    "# .to_json() doesn't exist in ibis, use SQL\n",
    "query = ibis.to_sql(subset)\n",
    "con.raw_sql(f\"COPY ({query}) TO 's3://cboettig/gbif/json/example.json' (FORMAT JSON, ARRAY true);\")\n",
    "\n"
   ]
  },
  {
   "cell_type": "markdown",
   "id": "51fc544f-ddb9-4bbf-815e-45cc3c8755f6",
   "metadata": {},
   "source": [
    "# Cloud-native map layers with leafmap\n",
    "\n"
   ]
  },
  {
   "cell_type": "code",
   "execution_count": null,
   "id": "1c1d6f97-8f49-4863-b0b5-536bd55e99d2",
   "metadata": {},
   "outputs": [],
   "source": [
    "import leafmap.maplibregl as leafmap\n",
    "m = leafmap.Map(style= terrain_style, \n",
    "                center=[-120, 37.6], zoom=9, pitch=55, bearing=20)\n",
    "\n",
    "url2 = base_url + \"/cboettig/gbif/json/example.json\"\n",
    "layer = HexagonLayer(url2, .5)\n",
    "m.add_deck_layers([layer])\n",
    "m.to_html(\"yosemite_bears.html\", overwrite=True)\n",
    "m"
   ]
  }
 ],
 "metadata": {
  "kernelspec": {
   "display_name": "Python 3 (ipykernel)",
   "language": "python",
   "name": "python3"
  },
  "language_info": {
   "codemirror_mode": {
    "name": "ipython",
    "version": 3
   },
   "file_extension": ".py",
   "mimetype": "text/x-python",
   "name": "python",
   "nbconvert_exporter": "python",
   "pygments_lexer": "ipython3",
   "version": "3.12.7"
  }
 },
 "nbformat": 4,
 "nbformat_minor": 5
}
