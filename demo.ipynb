{
 "cells": [
  {
   "cell_type": "code",
   "execution_count": null,
   "id": "48a16400-3031-455e-92ce-bf912a090fb2",
   "metadata": {},
   "outputs": [],
   "source": [
    "import ibis\n",
    "from ibis import _\n",
    "import pydeck as pdk\n",
    "from boilerplate import *\n",
    "\n",
    "con = ibis.duckdb.connect(extensions=['httpfs', 'spatial', 'h3'])"
   ]
  },
  {
   "cell_type": "code",
   "execution_count": null,
   "id": "62fa95cf-5d5c-4340-aaad-f84838046b1c",
   "metadata": {},
   "outputs": [],
   "source": [
    "set_secrets(con)\n",
    "gbif = con.read_parquet(\"s3://cboettig/gbif/2024-10-01/**\")"
   ]
  },
  {
   "cell_type": "code",
   "execution_count": null,
   "id": "f5d8f550-6624-47e8-96a6-5a15b5cacd93",
   "metadata": {},
   "outputs": [],
   "source": [
    "%%time\n",
    "\n",
    "dest = \"csv/gbif_demo.csv\"\n",
    "\n",
    "(gbif\n",
    "  .filter(_[\"class\"].isin([\"Insecta\"]))\n",
    " # .filter(_.species == \"Balaenoptera musculus\")\n",
    "  .rename(hex = \"h5\")\n",
    "  .group_by(_.hex)\n",
    "  .agg(n = _.count())\n",
    "  .mutate(logn = _.n.log())\n",
    "  .mutate(value = (255 * _.logn / _.logn.max()).cast(\"int\"))\n",
    "  .to_csv(\"s3://cboettig/gbif/\" + dest)\n",
    ")"
   ]
  },
  {
   "cell_type": "code",
   "execution_count": null,
   "id": "5bfd4a7d-42f7-4e02-8821-3aa034c79026",
   "metadata": {},
   "outputs": [],
   "source": [
    "url = \"https://minio.carlboettiger.info/cboettig/gbif/\" + dest\n",
    "\n",
    "layer = HexagonLayer(url)\n",
    "deck = DeckGlobe(layer)\n",
    "\n",
    "deck.to_html(\"globe.html\")"
   ]
  },
  {
   "cell_type": "markdown",
   "id": "c9878217-3076-46ea-ac32-347190cc6eba",
   "metadata": {},
   "source": [
    "\n",
    "---\n"
   ]
  },
  {
   "cell_type": "markdown",
   "id": "5e58c4d4-f6c5-4e21-9516-32cc3376e51f",
   "metadata": {},
   "source": [
    "# Additional examples"
   ]
  },
  {
   "cell_type": "code",
   "execution_count": null,
   "id": "e2e5a1e3-7f4c-40aa-aaa6-ab4f0e5f834a",
   "metadata": {},
   "outputs": [],
   "source": [
    "## Filter to specific polygon\n",
    "import geopandas as gpd\n",
    "polygons = gpd.read_file(\"https://github.com/nvkelso/natural-earth-vector/blob/master/geojson/ne_110m_admin_0_countries.geojson?raw=true\")\n",
    "polygon = polygons[polygons.NAME == 'Portugal']\n",
    "poly_expr = ibis.literal(polygon.geometry.iloc[0])\n"
   ]
  },
  {
   "cell_type": "code",
   "execution_count": null,
   "id": "0933c076-fc64-478a-9779-d1a7bc43c977",
   "metadata": {},
   "outputs": [],
   "source": [
    "name = \"portugal_bird_richness\"\n",
    "s3_csv = \"s3://cboettig/gbif/csv/\" + name + \".csv\"\n",
    "s3out = \"s3://cboettig/gbif/\" + name + \".pmtiles\"\n",
    "\n",
    "subset = (gbif\n",
    "  .filter( _.geom.within(poly_expr))\n",
    "  .filter(_[\"class\"] == \"Aves\")\n",
    "  .rename(hex = \"h8\")\n",
    "  .select(_.hex, _.species).distinct() # distinct species\n",
    "  .group_by(_.hex)\n",
    "  .agg(n = _.count())\n",
    "  .mutate(wkt =  h3_cell_to_boundary_wkt(_.hex)) # write to pmtiles?\n",
    "  .mutate(logn = _.n.log())\n",
    "  .mutate(value = (255 * _.logn / _.logn.max()).cast(\"int\"))\n",
    "  .to_geo(s3out)\n",
    ")\n"
   ]
  }
 ],
 "metadata": {
  "kernelspec": {
   "display_name": "Python 3 (ipykernel)",
   "language": "python",
   "name": "python3"
  },
  "language_info": {
   "codemirror_mode": {
    "name": "ipython",
    "version": 3
   },
   "file_extension": ".py",
   "mimetype": "text/x-python",
   "name": "python",
   "nbconvert_exporter": "python",
   "pygments_lexer": "ipython3",
   "version": "3.12.7"
  }
 },
 "nbformat": 4,
 "nbformat_minor": 5
}
